{
  "metadata": {
    "kernelspec": {
      "language": "python",
      "display_name": "Python 3",
      "name": "python3"
    },
    "language_info": {
      "name": "python",
      "version": "3.10.12",
      "mimetype": "text/x-python",
      "codemirror_mode": {
        "name": "ipython",
        "version": 3
      },
      "pygments_lexer": "ipython3",
      "nbconvert_exporter": "python",
      "file_extension": ".py"
    },
    "kaggle": {
      "accelerator": "none",
      "dataSources": [
        {
          "sourceId": 84175,
          "databundleVersionId": 9816926,
          "isSourceIdPinned": false,
          "sourceType": "competition"
        },
        {
          "sourceId": 11373223,
          "sourceType": "datasetVersion",
          "datasetId": 7119977
        },
        {
          "sourceId": 11373964,
          "sourceType": "datasetVersion",
          "datasetId": 7120552
        },
        {
          "sourceId": 11380103,
          "sourceType": "datasetVersion",
          "datasetId": 7125320
        },
        {
          "sourceId": 12126595,
          "sourceType": "datasetVersion",
          "datasetId": 7635896
        }
      ],
      "dockerImageVersionId": 30918,
      "isInternetEnabled": true,
      "language": "python",
      "sourceType": "notebook",
      "isGpuEnabled": false
    },
    "colab": {
      "name": "nfl tracking",
      "provenance": [],
      "include_colab_link": true
    }
  },
  "nbformat_minor": 0,
  "nbformat": 4,
  "cells": [
    {
      "cell_type": "markdown",
      "metadata": {
        "id": "view-in-github",
        "colab_type": "text"
      },
      "source": [
        "<a href=\"https://colab.research.google.com/github/sachinsaraff10/NFL-tracker/blob/main/nfl_tracking.ipynb\" target=\"_parent\"><img src=\"https://colab.research.google.com/assets/colab-badge.svg\" alt=\"Open In Colab\"/></a>"
      ]
    },
    {
      "source": [
        "# IMPORTANT: SOME KAGGLE DATA SOURCES ARE PRIVATE\n",
        "# RUN THIS CELL IN ORDER TO IMPORT YOUR KAGGLE DATA SOURCES.\n",
        "import kagglehub\n",
        "kagglehub.login()\n"
      ],
      "metadata": {
        "id": "ROREzUfmF3RU"
      },
      "cell_type": "code",
      "outputs": [],
      "execution_count": null
    },
    {
      "source": [
        "# IMPORTANT: RUN THIS CELL IN ORDER TO IMPORT YOUR KAGGLE DATA SOURCES,\n",
        "# THEN FEEL FREE TO DELETE THIS CELL.\n",
        "# NOTE: THIS NOTEBOOK ENVIRONMENT DIFFERS FROM KAGGLE'S PYTHON\n",
        "# ENVIRONMENT SO THERE MAY BE MISSING LIBRARIES USED BY YOUR\n",
        "# NOTEBOOK.\n",
        "\n",
        "nfl_big_data_bowl_2025_path = kagglehub.competition_download('nfl-big-data-bowl-2025')\n",
        "sachinsaraff_qbadvanced_path = kagglehub.dataset_download('sachinsaraff/qbadvanced')\n",
        "sachinsaraff_2022qbstats_path = kagglehub.dataset_download('sachinsaraff/2022qbstats')\n",
        "sachinsaraff_receiver_stats_path = kagglehub.dataset_download('sachinsaraff/receiver-stats')\n",
        "sachinsaraff_more_qbstats_path = kagglehub.dataset_download('sachinsaraff/more-qbstats')\n",
        "\n",
        "print('Data source import complete.')\n"
      ],
      "metadata": {
        "id": "csLbNML8F3RX"
      },
      "cell_type": "code",
      "outputs": [],
      "execution_count": null
    },
    {
      "cell_type": "code",
      "source": [
        "# This Python 3 environment comes with many helpful analytics libraries installed\n",
        "# It is defined by the kaggle/python Docker image: https://github.com/kaggle/docker-python\n",
        "# For example, here's several helpful packages to load\n",
        "\n",
        "import numpy as np # linear algebra\n",
        "import pandas as pd # data processing, CSV file I/O (e.g. pd.read_csv)\n",
        "\n",
        "# Input data files are available in the read-only \"../input/\" directory\n",
        "# For example, running this (by clicking run or pressing Shift+Enter) will list all files under the input directory\n",
        "\n",
        "import os\n",
        "\n",
        "for dirname, _, filenames in os.walk('/kaggle/input'):\n",
        "    for filename in filenames:\n",
        "        print(os.path.join(dirname, filename))\n",
        "\n",
        "# You can write up to 20GB to the current directory (/kaggle/working/) that gets preserved as output when you create a version using \"Save & Run All\"\n",
        "# You can also write temporary files to /kaggle/temp/, but they won't be saved outside of the current session\n",
        "\n",
        "qbstats=pd.read_excel('/kaggle/input/qbadvanced/qb stats.xlsx',header=1)"
      ],
      "metadata": {
        "_uuid": "8f2839f25d086af736a60e9eeb907d3b93b6e0e5",
        "_cell_guid": "b1076dfc-b9ad-4769-8c92-a6c4dae69d19",
        "trusted": true,
        "execution": {
          "iopub.status.busy": "2025-07-19T06:42:11.920047Z",
          "iopub.execute_input": "2025-07-19T06:42:11.920448Z",
          "iopub.status.idle": "2025-07-19T06:42:13.024387Z",
          "shell.execute_reply.started": "2025-07-19T06:42:11.920419Z",
          "shell.execute_reply": "2025-07-19T06:42:13.023139Z"
        },
        "id": "LPF4OCs9F3RX",
        "outputId": "768fd795-561e-4ce7-f0dd-f44cae0883dc"
      },
      "outputs": [
        {
          "name": "stdout",
          "text": "/kaggle/input/nfl-big-data-bowl-2025/players.csv\n/kaggle/input/nfl-big-data-bowl-2025/tracking_week_7.csv\n/kaggle/input/nfl-big-data-bowl-2025/tracking_week_9.csv\n/kaggle/input/nfl-big-data-bowl-2025/tracking_week_6.csv\n/kaggle/input/nfl-big-data-bowl-2025/games.csv\n/kaggle/input/nfl-big-data-bowl-2025/tracking_week_8.csv\n/kaggle/input/nfl-big-data-bowl-2025/player_play.csv\n/kaggle/input/nfl-big-data-bowl-2025/tracking_week_4.csv\n/kaggle/input/nfl-big-data-bowl-2025/tracking_week_3.csv\n/kaggle/input/nfl-big-data-bowl-2025/tracking_week_5.csv\n/kaggle/input/nfl-big-data-bowl-2025/tracking_week_1.csv\n/kaggle/input/nfl-big-data-bowl-2025/plays.csv\n/kaggle/input/nfl-big-data-bowl-2025/tracking_week_2.csv\n/kaggle/input/2022qbstats/qbstats2022.xlsx\n/kaggle/input/more-qbstats/FantasyPros_Fantasy_Football_Advanced_Stats_Report_QB.csv\n/kaggle/input/receiver-stats/receiverstats.xlsx\n/kaggle/input/qbadvanced/qb stats.xlsx\n",
          "output_type": "stream"
        }
      ],
      "execution_count": null
    },
    {
      "cell_type": "code",
      "source": [
        "qbstats.rename(columns={\"Unnamed: 0\":\"Name\"},inplace=True)"
      ],
      "metadata": {
        "trusted": true,
        "id": "NQiGu1WoF3RY"
      },
      "outputs": [],
      "execution_count": null
    },
    {
      "cell_type": "code",
      "source": [
        "qbstats.dropna(inplace=True)"
      ],
      "metadata": {
        "trusted": true,
        "id": "W2cm-_0yF3RZ"
      },
      "outputs": [],
      "execution_count": null
    },
    {
      "cell_type": "code",
      "source": [
        "import matplotlib.pyplot as plt\n",
        "import numpy as np\n",
        "import matplotlib.patches as patches\n",
        "\n",
        "# Sample player data: (x, y positions, orientation angle in degrees)\n",
        "players = [\n",
        "    (30, 20, 45),   # (x, y, angle)\n",
        "    (50, 50, 90),\n",
        "    (70, 30, 135),\n",
        "]\n",
        "\n",
        "circle_radius = 2  # Circle size\n",
        "arrow_length = circle_radius * 1.5  # Adjust as needed\n",
        "arrow_width = 0.4  # Thin arrow shaft\n",
        "\n",
        "fig, ax = plt.subplots(figsize=(8, 5))\n",
        "\n",
        "for x, y, angle in players:\n",
        "    theta = np.radians(angle)  # Convert angle to radians\n",
        "\n",
        "    # Compute arrow start position (from center to the edge of the circle)\n",
        "    x_arrow_start = x + circle_radius * np.cos(theta)\n",
        "    y_arrow_start = y + circle_radius * np.sin(theta)\n",
        "\n",
        "    # Create and add circle (player body)\n",
        "    circle = plt.Circle((x, y), circle_radius, color='blue', ec='black', lw=1, zorder=3)\n",
        "    ax.add_patch(circle)\n",
        "\n",
        "    # Create and add arrow (tail)\n",
        "    arrow = patches.FancyArrow(\n",
        "        x_arrow_start, y_arrow_start,  # Start at circle's edge\n",
        "        arrow_length * np.cos(theta), arrow_length * np.sin(theta),  # Extend outward\n",
        "        width=arrow_width, head_width=0, head_length=0, color='blue', zorder=2\n",
        "    )\n",
        "    ax.add_patch(arrow)\n",
        "\n",
        "# Set field dimensions\n",
        "ax.set_xlim(0, 100)\n",
        "ax.set_ylim(0, 60)\n",
        "ax.set_aspect('equal')\n",
        "ax.set_title(\"Players with Integrated Arrow Movement\")\n",
        "ax.grid(True, linestyle=\"--\", alpha=0.5)\n",
        "\n",
        "plt.show()\n"
      ],
      "metadata": {
        "trusted": true,
        "id": "41QYBPN_F3RZ"
      },
      "outputs": [],
      "execution_count": null
    },
    {
      "cell_type": "code",
      "source": [
        "# Load CSV in chunks and save as Parquet\n",
        "chunk_size = 1_000_000  # Adjust based on memory capacity\n",
        "path = '/kaggle/input/nfl-big-data-bowl-2025'\n",
        "csv_file = path + '/tracking_week_1.csv'"
      ],
      "metadata": {
        "trusted": true,
        "execution": {
          "iopub.status.busy": "2025-04-28T16:12:41.683142Z",
          "iopub.execute_input": "2025-04-28T16:12:41.683684Z",
          "iopub.status.idle": "2025-04-28T16:12:41.688002Z",
          "shell.execute_reply.started": "2025-04-28T16:12:41.683648Z",
          "shell.execute_reply": "2025-04-28T16:12:41.68687Z"
        },
        "id": "nd9QPpGKF3RZ"
      },
      "outputs": [],
      "execution_count": null
    },
    {
      "cell_type": "code",
      "source": [
        "\n",
        "parquet_file = 'play_tracking_data.parquet'\n",
        "\n",
        "\n",
        "for i, chunk in enumerate(reader):\n",
        "    chunk.to_parquet(f'{parquet_file}.part{i}', index=False, engine='pyarrow')"
      ],
      "metadata": {
        "trusted": true,
        "id": "-QtdQw4JF3Ra"
      },
      "outputs": [],
      "execution_count": null
    },
    {
      "cell_type": "code",
      "source": [
        "reader = pd.read_csv(csv_file, chunksize=chunk_size)\n",
        "\n",
        "chunks = []\n",
        "for chunk in reader:\n",
        "    chunks.append(chunk)  # Save each chunk\n",
        "\n",
        "week_1 = pd.concat(chunks, ignore_index=True)"
      ],
      "metadata": {
        "trusted": true,
        "execution": {
          "iopub.status.busy": "2025-04-28T16:12:47.031502Z",
          "iopub.execute_input": "2025-04-28T16:12:47.031905Z",
          "iopub.status.idle": "2025-04-28T16:13:14.104038Z",
          "shell.execute_reply.started": "2025-04-28T16:12:47.031873Z",
          "shell.execute_reply": "2025-04-28T16:13:14.10296Z"
        },
        "id": "_baOpE8AF3Ra"
      },
      "outputs": [],
      "execution_count": null
    },
    {
      "cell_type": "code",
      "source": [
        "plays = pd.read_csv(path + '/plays.csv')"
      ],
      "metadata": {
        "trusted": true,
        "id": "SEAXrc3IF3Ra"
      },
      "outputs": [],
      "execution_count": null
    },
    {
      "cell_type": "code",
      "source": [
        "players= pd.read_csv(path+'/players.csv')"
      ],
      "metadata": {
        "trusted": true,
        "execution": {
          "iopub.status.busy": "2025-04-28T16:33:31.409369Z",
          "iopub.execute_input": "2025-04-28T16:33:31.409791Z",
          "iopub.status.idle": "2025-04-28T16:33:31.454308Z",
          "shell.execute_reply.started": "2025-04-28T16:33:31.409745Z",
          "shell.execute_reply": "2025-04-28T16:33:31.453227Z"
        },
        "id": "Wd-TqnG5F3Ra"
      },
      "outputs": [],
      "execution_count": null
    },
    {
      "cell_type": "code",
      "source": [
        "player_play = pd.read_csv(path+'/player_play.csv')"
      ],
      "metadata": {
        "trusted": true,
        "execution": {
          "iopub.status.busy": "2025-04-21T17:31:40.319512Z",
          "iopub.execute_input": "2025-04-21T17:31:40.319894Z",
          "iopub.status.idle": "2025-04-21T17:31:42.182776Z",
          "shell.execute_reply.started": "2025-04-21T17:31:40.319866Z",
          "shell.execute_reply": "2025-04-21T17:31:42.181393Z"
        },
        "id": "mhYa2TPtF3Rb"
      },
      "outputs": [],
      "execution_count": null
    },
    {
      "cell_type": "code",
      "source": [
        "qb2022 = pd.read_excel('/kaggle/input/2022qbstats/qbstats2022.xlsx')"
      ],
      "metadata": {
        "trusted": true,
        "execution": {
          "iopub.status.busy": "2025-07-17T11:22:42.398292Z",
          "iopub.execute_input": "2025-07-17T11:22:42.398758Z",
          "iopub.status.idle": "2025-07-17T11:22:43.077026Z",
          "shell.execute_reply.started": "2025-07-17T11:22:42.398721Z",
          "shell.execute_reply": "2025-07-17T11:22:43.075907Z"
        },
        "id": "9Nn4dECnF3Rb"
      },
      "outputs": [],
      "execution_count": null
    },
    {
      "cell_type": "code",
      "source": [
        "qb2022.drop(columns=\"Unnamed: 1\",inplace=True)"
      ],
      "metadata": {
        "trusted": true,
        "execution": {
          "iopub.status.busy": "2025-07-17T11:22:45.497868Z",
          "iopub.execute_input": "2025-07-17T11:22:45.498477Z",
          "iopub.status.idle": "2025-07-17T11:22:45.506165Z",
          "shell.execute_reply.started": "2025-07-17T11:22:45.498437Z",
          "shell.execute_reply": "2025-07-17T11:22:45.504955Z"
        },
        "id": "poTnvxbOF3Rb"
      },
      "outputs": [],
      "execution_count": null
    },
    {
      "cell_type": "code",
      "source": [
        "week_1 = week_1.merge(\n",
        "    players.loc[:,['position','nflId','height']],\n",
        "    on = 'nflId',\n",
        "    how='left',\n",
        ")"
      ],
      "metadata": {
        "trusted": true,
        "execution": {
          "iopub.status.busy": "2025-04-28T16:33:36.94924Z",
          "iopub.execute_input": "2025-04-28T16:33:36.949619Z",
          "iopub.status.idle": "2025-04-28T16:33:42.239213Z",
          "shell.execute_reply.started": "2025-04-28T16:33:36.94959Z",
          "shell.execute_reply": "2025-04-28T16:33:42.238114Z"
        },
        "id": "H9D9i-16F3Rb"
      },
      "outputs": [],
      "execution_count": null
    },
    {
      "cell_type": "code",
      "source": [
        "filteredframes=week_1.query('event==\"pass_forward\" & displayName == \"football\"').frameId\n",
        "previousframes = filteredframes-1"
      ],
      "metadata": {
        "trusted": true,
        "id": "PARk1rrMF3Rb"
      },
      "outputs": [],
      "execution_count": null
    },
    {
      "cell_type": "code",
      "source": [
        "week_1['position'].fillna('football',inplace=True)"
      ],
      "metadata": {
        "trusted": true,
        "execution": {
          "iopub.status.busy": "2025-04-28T16:33:47.056895Z",
          "iopub.execute_input": "2025-04-28T16:33:47.057268Z",
          "iopub.status.idle": "2025-04-28T16:33:47.460308Z",
          "shell.execute_reply.started": "2025-04-28T16:33:47.057235Z",
          "shell.execute_reply": "2025-04-28T16:33:47.459246Z"
        },
        "id": "h9j3_MD_F3Rb",
        "outputId": "fbe22e72-2037-40f7-9b0f-a25e3efb60da"
      },
      "outputs": [
        {
          "name": "stderr",
          "text": "<ipython-input-6-b5d80c0627e0>:1: FutureWarning: A value is trying to be set on a copy of a DataFrame or Series through chained assignment using an inplace method.\nThe behavior will change in pandas 3.0. This inplace method will never work because the intermediate object on which we are setting values always behaves as a copy.\n\nFor example, when doing 'df[col].method(value, inplace=True)', try using 'df.method({col: value}, inplace=True)' or df[col] = df[col].method(value) instead, to perform the operation inplace on the original object.\n\n\n  week_1['position'].fillna('football',inplace=True)\n",
          "output_type": "stream"
        }
      ],
      "execution_count": null
    },
    {
      "cell_type": "code",
      "source": [
        "filtered_df = week_1.query('frameType == \"AFTER_SNAP\" & (position == \"QB\" | position == \"football\")')\n",
        "# grouped_df = filtered_df.sort_values(by=[\"frameId\", \"position\"])"
      ],
      "metadata": {
        "trusted": true,
        "id": "98JxMp5rF3Rb"
      },
      "outputs": [],
      "execution_count": null
    },
    {
      "cell_type": "code",
      "source": [
        "# Sort by gameId, playId, frameId, and position to ensure grouping\n",
        "grouped_df = filtered_df.sort_values(by=[\"gameId\", \"playId\", \"frameId\", \"position\"])\n",
        "\n",
        "# Optional: Reset index for continuity\n",
        "grouped_df = grouped_df.reset_index(drop=True)"
      ],
      "metadata": {
        "trusted": true,
        "id": "BJlHKmWJF3Rc"
      },
      "outputs": [],
      "execution_count": null
    },
    {
      "cell_type": "code",
      "source": [
        "# Perform the pivot\n",
        "pivoted_df = grouped_df.pivot_table(\n",
        "    index=[\"gameId\", \"playId\", \"frameId\"],\n",
        "    columns=\"position\",\n",
        "    values=[\"x\", \"y\"]\n",
        ").reset_index()\n",
        "\n",
        "# Flatten the column names\n",
        "pivoted_df.columns = ['_'.join(col).strip('_') for col in pivoted_df.columns.to_flat_index()]\n",
        "\n",
        "# Resulting columns: [\"gameId\", \"playId\", \"frameId\", \"x_QB\", \"y_QB\", \"x_football\", \"y_football\"]\n"
      ],
      "metadata": {
        "trusted": true,
        "id": "qsjANgS5F3Rc"
      },
      "outputs": [],
      "execution_count": null
    },
    {
      "cell_type": "code",
      "source": [
        "pivoted_df[\"x_diff\"] = pivoted_df[\"x_football\"] - pivoted_df[\"x_QB\"]\n",
        "pivoted_df[\"y_diff\"] = pivoted_df[\"y_football\"] - pivoted_df[\"y_QB\"]"
      ],
      "metadata": {
        "trusted": true,
        "id": "i8TfdNi3F3Rc"
      },
      "outputs": [],
      "execution_count": null
    },
    {
      "cell_type": "code",
      "source": [
        "pivoted_df[\"distance\"] = np.sqrt(pivoted_df[\"x_diff\"]**2 + pivoted_df[\"y_diff\"]**2)"
      ],
      "metadata": {
        "trusted": true,
        "id": "MUf3Y6h_F3Rc"
      },
      "outputs": [],
      "execution_count": null
    },
    {
      "cell_type": "code",
      "source": [
        "pivoted_df = pivoted_df.round(2)"
      ],
      "metadata": {
        "trusted": true,
        "id": "knV-8NyUF3Rc"
      },
      "outputs": [],
      "execution_count": null
    },
    {
      "cell_type": "code",
      "source": [
        "import matplotlib.pyplot as plt\n",
        "\n",
        "# Parameters\n",
        "qb_x, qb_y = 50, 25       # QB position (example)\n",
        "angle = np.radians(45)    # QB orientation (in degrees, converted to radians)\n",
        "spread = np.radians(30)   # Cone spread angle (±30 degrees)\n",
        "max_range = 50            # Maximum pass range (yards)\n",
        "\n",
        "# Calculate cone edges\n",
        "left_edge_angle = angle + spread\n",
        "right_edge_angle = angle - spread\n",
        "\n",
        "# Define edge points\n",
        "def edge_point(origin_x, origin_y, angle, distance):\n",
        "    x = origin_x + distance * np.cos(angle)\n",
        "    y = origin_y + distance * np.sin(angle)\n",
        "    return x, y\n",
        "\n",
        "left_x, left_y = edge_point(qb_x, qb_y, left_edge_angle, max_range)\n",
        "right_x, right_y = edge_point(qb_x, qb_y, right_edge_angle, max_range)\n",
        "\n",
        "# Plot the cone\n",
        "plt.figure(figsize=(10, 6))\n",
        "plt.plot([qb_x, left_x], [qb_y, left_y], 'r-', label=\"Left Edge\")\n",
        "plt.plot([qb_x, right_x], [qb_y, right_y], 'b-', label=\"Right Edge\")\n",
        "plt.fill([qb_x, left_x, right_x], [qb_y, left_y, right_y], color='orange', alpha=0.3, label=\"Target Area\")\n",
        "plt.scatter(qb_x, qb_y, c='k', label=\"QB Position\", zorder=5)\n",
        "\n",
        "# Field boundaries\n",
        "plt.xlim(0, 100)\n",
        "plt.ylim(0, 53.3)\n",
        "plt.gca().set_aspect('equal', adjustable='box')\n",
        "plt.title(\"QB Pass Target Area\")\n",
        "plt.xlabel(\"Field X (yards)\")\n",
        "plt.ylabel(\"Field Y (yards)\")\n",
        "plt.legend()\n",
        "plt.grid()\n",
        "plt.show()\n"
      ],
      "metadata": {
        "trusted": true,
        "id": "UTNk3vEpF3Rc"
      },
      "outputs": [],
      "execution_count": null
    },
    {
      "cell_type": "code",
      "source": [
        "week_1[['x','y']]=week_1[['x','y']].round(2)"
      ],
      "metadata": {
        "trusted": true,
        "execution": {
          "iopub.status.busy": "2025-04-28T16:34:09.425926Z",
          "iopub.execute_input": "2025-04-28T16:34:09.426602Z",
          "iopub.status.idle": "2025-04-28T16:34:09.651835Z",
          "shell.execute_reply.started": "2025-04-28T16:34:09.42657Z",
          "shell.execute_reply": "2025-04-28T16:34:09.650981Z"
        },
        "id": "ha_7iB16F3Rc"
      },
      "outputs": [],
      "execution_count": null
    },
    {
      "cell_type": "code",
      "source": [
        "unique_combos = week_1[['gameId','playId']].drop_duplicates()"
      ],
      "metadata": {
        "trusted": true,
        "id": "5VPIKo8FF3Rc"
      },
      "outputs": [],
      "execution_count": null
    },
    {
      "cell_type": "code",
      "source": [
        "import pickle"
      ],
      "metadata": {
        "trusted": true,
        "execution": {
          "iopub.status.busy": "2025-07-19T06:42:32.551134Z",
          "iopub.execute_input": "2025-07-19T06:42:32.551478Z",
          "iopub.status.idle": "2025-07-19T06:42:32.5556Z",
          "shell.execute_reply.started": "2025-07-19T06:42:32.55145Z",
          "shell.execute_reply": "2025-07-19T06:42:32.554455Z"
        },
        "id": "8ptZDdK1F3Rc"
      },
      "outputs": [],
      "execution_count": null
    },
    {
      "cell_type": "code",
      "source": [
        "save_directory = '/kaggle/working'"
      ],
      "metadata": {
        "trusted": true,
        "execution": {
          "iopub.status.busy": "2025-04-28T16:35:00.512871Z",
          "iopub.execute_input": "2025-04-28T16:35:00.513265Z",
          "iopub.status.idle": "2025-04-28T16:35:00.51765Z",
          "shell.execute_reply.started": "2025-04-28T16:35:00.513236Z",
          "shell.execute_reply": "2025-04-28T16:35:00.516536Z"
        },
        "id": "86gVfe_5F3Rd"
      },
      "outputs": [],
      "execution_count": null
    },
    {
      "cell_type": "code",
      "source": [
        "with open(\"week_1.pkl\", \"wb\") as f:\n",
        "    pickle.dump(week_1, f)\n"
      ],
      "metadata": {
        "trusted": true,
        "execution": {
          "iopub.status.busy": "2025-04-28T16:35:19.532571Z",
          "iopub.execute_input": "2025-04-28T16:35:19.532988Z",
          "iopub.status.idle": "2025-04-28T16:35:26.611995Z",
          "shell.execute_reply.started": "2025-04-28T16:35:19.53296Z",
          "shell.execute_reply": "2025-04-28T16:35:26.610718Z"
        },
        "id": "FuyLoPeYF3Rd"
      },
      "outputs": [],
      "execution_count": null
    },
    {
      "cell_type": "code",
      "source": [
        "os.makedirs(save_directory, exist_ok=True)"
      ],
      "metadata": {
        "trusted": true,
        "id": "tbShPnvgF3Rd"
      },
      "outputs": [],
      "execution_count": null
    },
    {
      "cell_type": "code",
      "source": [
        "# Create a copy of globals() to iterate safely\n",
        "global_vars = globals().copy()\n",
        "\n",
        "# Identify and save all DataFrame variables\n",
        "for var_name, var_value in global_vars.items():\n",
        "    if isinstance(var_value, pd.DataFrame):\n",
        "        file_path = os.path.join(save_directory, f\"{var_name}.pkl\")\n",
        "        with open(file_path, 'wb') as f:\n",
        "            pickle.dump(var_value, f)\n",
        "        print(f\"Saved {var_name} to {file_path}\")\n"
      ],
      "metadata": {
        "trusted": true,
        "id": "ASPNFTjtF3Rd"
      },
      "outputs": [],
      "execution_count": null
    },
    {
      "cell_type": "code",
      "source": [
        "def save_dfs(global_vars, save_directory):\n",
        "    # enter global_vars as globals.copy() when running this\n",
        "    for var_name, var_value in global_vars.items():\n",
        "        if isinstance(var_value, pd.DataFrame):\n",
        "            file_path = os.path.join(save_directory, f\"{var_name}.pkl\")\n",
        "            with open(file_path, 'wb') as f:\n",
        "                pickle.dump(var_value, f)\n",
        "            print(f\"Saved {var_name} to {file_path}\")"
      ],
      "metadata": {
        "trusted": true,
        "execution": {
          "iopub.status.busy": "2025-07-17T11:23:26.564698Z",
          "iopub.execute_input": "2025-07-17T11:23:26.56511Z",
          "iopub.status.idle": "2025-07-17T11:23:26.571695Z",
          "shell.execute_reply.started": "2025-07-17T11:23:26.565078Z",
          "shell.execute_reply": "2025-07-17T11:23:26.570199Z"
        },
        "id": "_gjIorgKF3Rd"
      },
      "outputs": [],
      "execution_count": null
    },
    {
      "cell_type": "code",
      "source": [
        "def load_dfs():\n",
        "    dataframes = {}\n",
        "    for filename in os.listdir(\"/kaggle/working\"):\n",
        "        if filename.endswith(\".pkl\"):\n",
        "            try:\n",
        "                file_path = os.path.join(\"/kaggle/working\", filename)\n",
        "                if os.path.getsize(file_path) == 0:\n",
        "                    print(f\"Skipping empty file: {filename}\")\n",
        "                    continue\n",
        "                with open(file_path, \"rb\") as f:\n",
        "                    var_name = filename.replace(\".pkl\", \"\")  # Extract variable name from filename\n",
        "                    dataframes[var_name] = pickle.load(f)\n",
        "            except (pickle.UnpicklingError, EOFError) as e:\n",
        "                print(f\"Skipping corrupted or incompatible file: {filename} - {e}\")\n",
        "    return dataframes"
      ],
      "metadata": {
        "trusted": true,
        "execution": {
          "iopub.status.busy": "2025-07-19T06:42:37.962881Z",
          "iopub.execute_input": "2025-07-19T06:42:37.963275Z",
          "iopub.status.idle": "2025-07-19T06:42:37.969662Z",
          "shell.execute_reply.started": "2025-07-19T06:42:37.963244Z",
          "shell.execute_reply": "2025-07-19T06:42:37.968235Z"
        },
        "id": "x4cZn9OgF3Rd"
      },
      "outputs": [],
      "execution_count": null
    },
    {
      "cell_type": "code",
      "source": [
        "dfs=load_dfs()"
      ],
      "metadata": {
        "trusted": true,
        "execution": {
          "iopub.status.busy": "2025-07-19T06:42:43.382965Z",
          "iopub.execute_input": "2025-07-19T06:42:43.383381Z",
          "iopub.status.idle": "2025-07-19T06:42:52.439256Z",
          "shell.execute_reply.started": "2025-07-19T06:42:43.383348Z",
          "shell.execute_reply": "2025-07-19T06:42:52.438219Z"
        },
        "id": "IeBHRcv5F3Rd",
        "outputId": "1ee0157d-9c85-4250-d336-10af086351ba"
      },
      "outputs": [
        {
          "name": "stdout",
          "text": "Skipping corrupted or incompatible file: _15.pkl - pickle data was truncated\nSkipping empty file: more_qbstats.pkl\n",
          "output_type": "stream"
        }
      ],
      "execution_count": null
    },
    {
      "cell_type": "code",
      "source": [
        "dfs.keys()"
      ],
      "metadata": {
        "trusted": true,
        "execution": {
          "iopub.status.busy": "2025-07-18T21:17:59.987146Z",
          "iopub.execute_input": "2025-07-18T21:17:59.987627Z",
          "iopub.status.idle": "2025-07-18T21:17:59.99563Z",
          "shell.execute_reply.started": "2025-07-18T21:17:59.987596Z",
          "shell.execute_reply": "2025-07-18T21:17:59.993811Z"
        },
        "id": "EuaUFw5QF3Re",
        "outputId": "089c35e9-be31-47d4-9573-a4b3340f293a"
      },
      "outputs": [
        {
          "execution_count": 10,
          "output_type": "execute_result",
          "data": {
            "text/plain": "dict_keys(['_3', '_30', 'players', 'qb_stats', '_13', 'pivoted_df', '_31', '_35', '_12', 'player_play', '_7', 'chunk', 'more_qb_adv', 'airtimes', '_4', 'qb2022', 'summary_df', '_32', 'eligible_receivers', 'temp', '_11', 'filtered_sample', '_21', 'unique_combos', 'filtered_df', '_25', '_16', 'qbstats', 'plays', 'grouped_df', 'receivers', '_28', '_29', 'week_1', 'plays_1', '_22', 'pass_speeds', '_2', '_27', '_23', 'sample_1', 'whole_sample', '_9', '_24'])"
          },
          "metadata": {}
        }
      ],
      "execution_count": null
    },
    {
      "cell_type": "code",
      "source": [
        "dfs = []\n",
        "for filename in os.listdir(\"/kaggle/working\"):\n",
        "    if filename.endswith(\".pkl\"):\n",
        "        try:\n",
        "            with open(os.path.join(\"/kaggle/working\", filename), \"rb\") as f:\n",
        "                data = pickle.load(f)\n",
        "                dfs.append(data)\n",
        "                print(f\"Successfully loaded {filename}\")\n",
        "        except pickle.UnpicklingError as e:\n",
        "            print(f\"Failed to load {filename}: {e}\")"
      ],
      "metadata": {
        "trusted": true,
        "execution": {
          "iopub.status.busy": "2025-06-21T19:18:35.865838Z",
          "iopub.execute_input": "2025-06-21T19:18:35.866241Z",
          "iopub.status.idle": "2025-06-21T19:18:41.597589Z",
          "shell.execute_reply.started": "2025-06-21T19:18:35.866199Z",
          "shell.execute_reply": "2025-06-21T19:18:41.59596Z"
        },
        "id": "Fgwi7RGFF3Re",
        "outputId": "7143e41f-22c5-4c76-ee9f-07b05cb07398"
      },
      "outputs": [
        {
          "name": "stdout",
          "text": "Failed to load _15.pkl: pickle data was truncated\nSuccessfully loaded players.pkl\nSuccessfully loaded receivers.pkl\nSuccessfully loaded sample_1.pkl\nSuccessfully loaded plays.pkl\nSuccessfully loaded _11.pkl\nSuccessfully loaded eligible_receivers.pkl\nSuccessfully loaded temp.pkl\nSuccessfully loaded pass_speeds.pkl\nSuccessfully loaded _30.pkl\nSuccessfully loaded _27.pkl\n",
          "output_type": "stream"
        },
        {
          "traceback": [
            "\u001b[0;31m---------------------------------------------------------------------------\u001b[0m",
            "\u001b[0;31mEOFError\u001b[0m                                  Traceback (most recent call last)",
            "\u001b[0;32m<ipython-input-11-49fa4dc881b4>\u001b[0m in \u001b[0;36m<cell line: 2>\u001b[0;34m()\u001b[0m\n\u001b[1;32m      4\u001b[0m         \u001b[0;32mtry\u001b[0m\u001b[0;34m:\u001b[0m\u001b[0;34m\u001b[0m\u001b[0;34m\u001b[0m\u001b[0m\n\u001b[1;32m      5\u001b[0m             \u001b[0;32mwith\u001b[0m \u001b[0mopen\u001b[0m\u001b[0;34m(\u001b[0m\u001b[0mos\u001b[0m\u001b[0;34m.\u001b[0m\u001b[0mpath\u001b[0m\u001b[0;34m.\u001b[0m\u001b[0mjoin\u001b[0m\u001b[0;34m(\u001b[0m\u001b[0;34m\"/kaggle/working\"\u001b[0m\u001b[0;34m,\u001b[0m \u001b[0mfilename\u001b[0m\u001b[0;34m)\u001b[0m\u001b[0;34m,\u001b[0m \u001b[0;34m\"rb\"\u001b[0m\u001b[0;34m)\u001b[0m \u001b[0;32mas\u001b[0m \u001b[0mf\u001b[0m\u001b[0;34m:\u001b[0m\u001b[0;34m\u001b[0m\u001b[0;34m\u001b[0m\u001b[0m\n\u001b[0;32m----> 6\u001b[0;31m                 \u001b[0mdata\u001b[0m \u001b[0;34m=\u001b[0m \u001b[0mpickle\u001b[0m\u001b[0;34m.\u001b[0m\u001b[0mload\u001b[0m\u001b[0;34m(\u001b[0m\u001b[0mf\u001b[0m\u001b[0;34m)\u001b[0m\u001b[0;34m\u001b[0m\u001b[0;34m\u001b[0m\u001b[0m\n\u001b[0m\u001b[1;32m      7\u001b[0m                 \u001b[0mdfs\u001b[0m\u001b[0;34m.\u001b[0m\u001b[0mappend\u001b[0m\u001b[0;34m(\u001b[0m\u001b[0mdata\u001b[0m\u001b[0;34m)\u001b[0m\u001b[0;34m\u001b[0m\u001b[0;34m\u001b[0m\u001b[0m\n\u001b[1;32m      8\u001b[0m                 \u001b[0mprint\u001b[0m\u001b[0;34m(\u001b[0m\u001b[0;34mf\"Successfully loaded {filename}\"\u001b[0m\u001b[0;34m)\u001b[0m\u001b[0;34m\u001b[0m\u001b[0;34m\u001b[0m\u001b[0m\n",
            "\u001b[0;31mEOFError\u001b[0m: Ran out of input"
          ],
          "ename": "EOFError",
          "evalue": "Ran out of input",
          "output_type": "error"
        }
      ],
      "execution_count": null
    },
    {
      "cell_type": "code",
      "source": [
        "week_1=dfs['week_1']"
      ],
      "metadata": {
        "trusted": true,
        "execution": {
          "iopub.status.busy": "2025-07-19T06:43:04.755957Z",
          "iopub.execute_input": "2025-07-19T06:43:04.756342Z",
          "iopub.status.idle": "2025-07-19T06:43:04.760722Z",
          "shell.execute_reply.started": "2025-07-19T06:43:04.756311Z",
          "shell.execute_reply": "2025-07-19T06:43:04.75957Z"
        },
        "id": "_oFDcurFF3Re"
      },
      "outputs": [],
      "execution_count": null
    },
    {
      "cell_type": "code",
      "source": [
        "whole_sample=dfs['whole_sample']"
      ],
      "metadata": {
        "trusted": true,
        "execution": {
          "iopub.status.busy": "2025-07-19T06:43:06.879806Z",
          "iopub.execute_input": "2025-07-19T06:43:06.880194Z",
          "iopub.status.idle": "2025-07-19T06:43:06.88451Z",
          "shell.execute_reply.started": "2025-07-19T06:43:06.880159Z",
          "shell.execute_reply": "2025-07-19T06:43:06.88328Z"
        },
        "id": "-h_d_jmaF3Re"
      },
      "outputs": [],
      "execution_count": null
    },
    {
      "cell_type": "code",
      "source": [
        "sample_1=week_1.query('frameType==\"AFTER_SNAP\"').sample(n=1)\n",
        "\n",
        "sample_game = sample_1.iloc[0].gameId\n",
        "sample_play = sample_1.iloc[0].playId\n",
        "sample_frame = sample_1.iloc[0].frameId\n",
        "\n",
        "whole_sample=week_1.query('gameId==@sample_game & playId==@sample_play & frameId== @sample_frame')\n",
        "\n",
        "sample_1.iloc[0]"
      ],
      "metadata": {
        "trusted": true,
        "execution": {
          "iopub.status.busy": "2025-07-19T06:43:10.407391Z",
          "iopub.execute_input": "2025-07-19T06:43:10.407719Z",
          "iopub.status.idle": "2025-07-19T06:43:11.315431Z",
          "shell.execute_reply.started": "2025-07-19T06:43:10.407693Z",
          "shell.execute_reply": "2025-07-19T06:43:11.314308Z"
        },
        "id": "dFA8t96LF3Re",
        "outputId": "aa52fdee-0530-47df-a024-7014c241f00a"
      },
      "outputs": [
        {
          "execution_count": 9,
          "output_type": "execute_result",
          "data": {
            "text/plain": "gameId                      2022091100\nplayId                            3267\nnflId                          44851.0\ndisplayName                Marcus Maye\nframeId                            108\nframeType                   AFTER_SNAP\ntime             2022-09-11 19:35:15.9\njerseyNumber                       6.0\nclub                                NO\nplayDirection                     left\nx                                 70.9\ny                                31.43\ns                                 2.35\na                                 2.32\ndis                               0.22\no                               146.01\ndir                             279.27\nevent                              NaN\nposition                            FS\nheight                             6-0\nName: 6584610, dtype: object"
          },
          "metadata": {}
        }
      ],
      "execution_count": null
    },
    {
      "cell_type": "code",
      "source": [
        "save_dfs(globals().copy(),'/kaggle/working')"
      ],
      "metadata": {
        "trusted": true,
        "execution": {
          "iopub.status.busy": "2025-07-17T11:23:33.281506Z",
          "iopub.execute_input": "2025-07-17T11:23:33.281995Z",
          "iopub.status.idle": "2025-07-17T11:23:41.599029Z",
          "shell.execute_reply.started": "2025-07-17T11:23:33.281948Z",
          "shell.execute_reply": "2025-07-17T11:23:41.59786Z"
        },
        "id": "Z6eo8tDMF3Ri",
        "outputId": "03ff6aef-3394-4e01-dcef-fc5f1a57595f"
      },
      "outputs": [
        {
          "name": "stdout",
          "text": "Saved qbstats to /kaggle/working/qbstats.pkl\nSaved _3 to /kaggle/working/_3.pkl\nSaved week_1 to /kaggle/working/week_1.pkl\nSaved qb_stats to /kaggle/working/qb_stats.pkl\nSaved plays_1 to /kaggle/working/plays_1.pkl\nSaved whole_sample to /kaggle/working/whole_sample.pkl\nSaved sample_1 to /kaggle/working/sample_1.pkl\nSaved _12 to /kaggle/working/_12.pkl\nSaved pass_speeds to /kaggle/working/pass_speeds.pkl\nSaved _16 to /kaggle/working/_16.pkl\nSaved summary_df to /kaggle/working/summary_df.pkl\nSaved _21 to /kaggle/working/_21.pkl\nSaved _23 to /kaggle/working/_23.pkl\nSaved _25 to /kaggle/working/_25.pkl\nSaved _27 to /kaggle/working/_27.pkl\nSaved _30 to /kaggle/working/_30.pkl\nSaved _31 to /kaggle/working/_31.pkl\nSaved _32 to /kaggle/working/_32.pkl\nSaved airtimes to /kaggle/working/airtimes.pkl\nSaved _35 to /kaggle/working/_35.pkl\nSaved more_qb_adv to /kaggle/working/more_qb_adv.pkl\nSaved qb2022 to /kaggle/working/qb2022.pkl\nSaved _7 to /kaggle/working/_7.pkl\n",
          "output_type": "stream"
        }
      ],
      "execution_count": null
    },
    {
      "cell_type": "code",
      "source": [
        "save_dfs(globals().copy(),'/kaggle/working')"
      ],
      "metadata": {
        "trusted": true,
        "id": "juBvsZc_F3Rj"
      },
      "outputs": [],
      "execution_count": null
    },
    {
      "cell_type": "code",
      "source": [
        "qb_stats=dfs['qb2022']"
      ],
      "metadata": {
        "trusted": true,
        "execution": {
          "iopub.status.busy": "2025-07-19T06:43:19.61823Z",
          "iopub.execute_input": "2025-07-19T06:43:19.618559Z",
          "iopub.status.idle": "2025-07-19T06:43:19.623218Z",
          "shell.execute_reply.started": "2025-07-19T06:43:19.618534Z",
          "shell.execute_reply": "2025-07-19T06:43:19.621915Z"
        },
        "id": "Ok0OA4BmF3Rj"
      },
      "outputs": [],
      "execution_count": null
    },
    {
      "cell_type": "code",
      "source": [
        "\n",
        "def eligible_receivers(qb_x, qb_y, angle, spread, max_range, receivers):\n",
        "    \"\"\"\n",
        "    Identify receivers within the quarterback's triangular field of view.\n",
        "\n",
        "    Parameters:\n",
        "    - qb_x, qb_y: Quarterback's position (x, y).\n",
        "    - angle: QB orientation (radians).\n",
        "    - spread: Field of view spread angle (radians).\n",
        "    - max_range: Maximum range of the triangle (yards).\n",
        "    - receivers: List of tuples [(rx1, ry1), (rx2, ry2), ...] representing receiver positions.\n",
        "\n",
        "    Returns:\n",
        "    - List of indices of eligible receivers.\n",
        "    \"\"\"\n",
        "    # Calculate the edges of the triangle\n",
        "    left_edge_angle = angle + spread\n",
        "    right_edge_angle = angle - spread\n",
        "\n",
        "    # Define triangle vertices\n",
        "    left_x, left_y = edge_point(qb_x, qb_y, left_edge_angle, max_range)\n",
        "    right_x, right_y = edge_point(qb_x, qb_y, right_edge_angle, max_range)\n",
        "    print(left_x,right_x,left_y,right_y)\n",
        "    v1, v2, v3 = (qb_x, qb_y), (left_x, left_y), (right_x, right_y)\n",
        "    # print(v1,v2,v3)\n",
        "\n",
        "    # Check each receiver\n",
        "    eligible = []\n",
        "    for i, row in receivers.iterrows():\n",
        "        rx, ry = row['x'], row['y']\n",
        "\n",
        "        if is_point_in_triangle(rx, ry, v1, v2, v3):\n",
        "\n",
        "            eligible.append(i)\n",
        "\n",
        "    return eligible\n",
        "\n",
        "def edge_point(origin_x, origin_y, angle, distance):\n",
        "    \"\"\"\n",
        "    Compute the endpoint of a line segment given origin, angle, and distance.\n",
        "    \"\"\"\n",
        "    x = origin_x + distance * np.cos(angle)\n",
        "    y = origin_y + distance * np.sin(angle)\n",
        "    x,y = x.astype(int),y.astype(int)\n",
        "    return x, y\n",
        "\n",
        "def is_point_in_triangle(px, py, v1, v2, v3):\n",
        "    \"\"\"\n",
        "    Check if the point (px, py) lies within the triangle defined by vertices v1, v2, v3.\n",
        "    Uses the cross-product method.\n",
        "    \"\"\"\n",
        "    def sign(p1, p2, p3):\n",
        "        \"\"\"Helper function to calculate the sign of the cross product.\"\"\"\n",
        "        return (p1[0] - p3[0]) * (p2[1] - p3[1]) - (p2[0] - p3[0]) * (p1[1] - p3[1])\n",
        "\n",
        "    # Calculate cross products for the triangle's edges\n",
        "    sign1 = sign((px, py), v1, v2)\n",
        "    sign2 = sign((px, py), v2, v3)\n",
        "    sign3 = sign((px, py), v3, v1)\n",
        "    # sign1,sign2,sign3  = sign1.astype(int),sign2.astype(int),sign3.astype(int)\n",
        "    sign1,sign2,sign3 = round(sign1.item(),2),round(sign2.item(),2),round(sign3.item(),2)\n",
        "    # print(sign1,sign2,sign3)\n",
        "    # If all signs are non-negative or non-positive, the point is inside the triangle\n",
        "    return ((sign1 >= 0) & (sign2 >= 0) & (sign3 >= 0)) | ((sign1 <= 0) & (sign2 <= 0) & (sign3 <= 0))\n"
      ],
      "metadata": {
        "trusted": true,
        "execution": {
          "iopub.status.busy": "2025-07-19T06:43:24.062541Z",
          "iopub.execute_input": "2025-07-19T06:43:24.06286Z",
          "iopub.status.idle": "2025-07-19T06:43:24.072956Z",
          "shell.execute_reply.started": "2025-07-19T06:43:24.062833Z",
          "shell.execute_reply": "2025-07-19T06:43:24.07176Z"
        },
        "id": "0ch7hJD0F3Rj"
      },
      "outputs": [],
      "execution_count": null
    },
    {
      "cell_type": "code",
      "source": [
        "edge_point(0,0,10,10)"
      ],
      "metadata": {
        "trusted": true,
        "execution": {
          "iopub.status.busy": "2025-07-18T07:09:34.15052Z",
          "iopub.execute_input": "2025-07-18T07:09:34.150868Z",
          "iopub.status.idle": "2025-07-18T07:09:34.157055Z",
          "shell.execute_reply.started": "2025-07-18T07:09:34.150845Z",
          "shell.execute_reply": "2025-07-18T07:09:34.156114Z"
        },
        "id": "gfWh9bRSF3Rj",
        "outputId": "bebac0d0-6250-40fc-f3c0-84ff19678c47"
      },
      "outputs": [
        {
          "execution_count": 11,
          "output_type": "execute_result",
          "data": {
            "text/plain": "(-8, -5)"
          },
          "metadata": {}
        }
      ],
      "execution_count": null
    },
    {
      "cell_type": "code",
      "source": [
        "qb_x = whole_sample.query('position==\"QB\"').x\n",
        "qb_y = whole_sample.query('position==\"QB\"').y\n",
        "max_range = 50\n",
        "qb_orientation= whole_sample.query('position==\"QB\"').o"
      ],
      "metadata": {
        "trusted": true,
        "execution": {
          "iopub.status.busy": "2025-04-21T09:15:56.145376Z",
          "iopub.execute_input": "2025-04-21T09:15:56.145757Z",
          "iopub.status.idle": "2025-04-21T09:15:56.179572Z",
          "shell.execute_reply.started": "2025-04-21T09:15:56.145716Z",
          "shell.execute_reply": "2025-04-21T09:15:56.178532Z"
        },
        "id": "K5-bcIU6F3Rk"
      },
      "outputs": [],
      "execution_count": null
    },
    {
      "cell_type": "code",
      "source": [
        "plays_1 = dfs['plays']"
      ],
      "metadata": {
        "trusted": true,
        "execution": {
          "iopub.status.busy": "2025-07-19T06:43:30.734257Z",
          "iopub.execute_input": "2025-07-19T06:43:30.734612Z",
          "iopub.status.idle": "2025-07-19T06:43:30.739069Z",
          "shell.execute_reply.started": "2025-07-19T06:43:30.734582Z",
          "shell.execute_reply": "2025-07-19T06:43:30.737822Z"
        },
        "id": "H3MI_kDLF3Rk"
      },
      "outputs": [],
      "execution_count": null
    },
    {
      "cell_type": "code",
      "source": [
        "edge_point(qb_x,qb_y,qb_orientation,max_range)"
      ],
      "metadata": {
        "trusted": true,
        "execution": {
          "execution_failed": "2025-07-13T22:24:48.516Z"
        },
        "id": "KNncS2amF3Rk"
      },
      "outputs": [],
      "execution_count": null
    },
    {
      "cell_type": "code",
      "source": [
        "receivers = whole_sample.query('position==\"WR\"|position==\"TE\"|position == \"RB\"')"
      ],
      "metadata": {
        "trusted": true,
        "execution": {
          "iopub.status.busy": "2025-04-21T06:36:43.003841Z",
          "iopub.execute_input": "2025-04-21T06:36:43.004559Z",
          "iopub.status.idle": "2025-04-21T06:36:43.020451Z",
          "shell.execute_reply.started": "2025-04-21T06:36:43.004522Z",
          "shell.execute_reply": "2025-04-21T06:36:43.01891Z"
        },
        "id": "mfSM5ig-F3Rk"
      },
      "outputs": [],
      "execution_count": null
    },
    {
      "cell_type": "code",
      "source": [
        "import math\n",
        "\n",
        "def calculate_spread(angle, unit='degrees'):\n",
        "    \"\"\"\n",
        "    Calculate the spread (half-angle) of the QB's field of view.\n",
        "\n",
        "    Parameters:\n",
        "    - angle: Total field of view angle (degrees or radians).\n",
        "    - unit: Unit of the angle ('degrees' or 'radians').\n",
        "\n",
        "    Returns:\n",
        "    - Spread in radians.\n",
        "    \"\"\"\n",
        "    if unit == 'degrees':\n",
        "        spread = (angle / 2) * (math.pi / 180)  # Convert to radians\n",
        "    elif unit == 'radians':\n",
        "        spread = angle / 2\n",
        "    else:\n",
        "        raise ValueError(\"Unit must be 'degrees' or 'radians'\")\n",
        "    return spread.round(2)\n"
      ],
      "metadata": {
        "trusted": true,
        "execution": {
          "iopub.status.busy": "2025-07-19T06:43:39.527298Z",
          "iopub.execute_input": "2025-07-19T06:43:39.527659Z",
          "iopub.status.idle": "2025-07-19T06:43:39.532882Z",
          "shell.execute_reply.started": "2025-07-19T06:43:39.527626Z",
          "shell.execute_reply": "2025-07-19T06:43:39.531775Z"
        },
        "id": "zRPo5h3_F3Rk"
      },
      "outputs": [],
      "execution_count": null
    },
    {
      "cell_type": "code",
      "source": [
        "spread = calculate_spread(qb_orientation)"
      ],
      "metadata": {
        "trusted": true,
        "execution": {
          "iopub.status.busy": "2025-04-21T09:16:32.996478Z",
          "iopub.execute_input": "2025-04-21T09:16:32.996846Z",
          "iopub.status.idle": "2025-04-21T09:16:33.00213Z",
          "shell.execute_reply.started": "2025-04-21T09:16:32.996815Z",
          "shell.execute_reply": "2025-04-21T09:16:33.000796Z"
        },
        "id": "1jVvFkCRF3Rl"
      },
      "outputs": [],
      "execution_count": null
    },
    {
      "cell_type": "code",
      "source": [
        "whole_sample.query('position==\"QB\"').o"
      ],
      "metadata": {
        "trusted": true,
        "execution": {
          "iopub.status.busy": "2025-07-13T22:30:56.340491Z",
          "iopub.execute_input": "2025-07-13T22:30:56.340907Z",
          "iopub.status.idle": "2025-07-13T22:30:56.373761Z",
          "shell.execute_reply.started": "2025-07-13T22:30:56.340868Z",
          "shell.execute_reply": "2025-07-13T22:30:56.372556Z"
        },
        "id": "TrMxu0EYF3Rl",
        "outputId": "54567c1d-7d9d-41c7-f9c0-ab3920ee54cf"
      },
      "outputs": [
        {
          "execution_count": 1,
          "output_type": "execute_result",
          "data": {
            "text/plain": "476113    247.8\nName: o, dtype: float64"
          },
          "metadata": {}
        }
      ],
      "execution_count": null
    },
    {
      "cell_type": "code",
      "source": [
        "eligibleguys=eligible_receivers(qb_x,qb_y,qb_orientation,calculate_spread(qb_orientation).values[0],\n",
        "                  max_range,whole_sample.query('position==\"WR\"|position==\"TE\"|position == \"RB\"'))"
      ],
      "metadata": {
        "trusted": true,
        "execution": {
          "iopub.status.busy": "2025-04-21T09:22:50.30574Z",
          "iopub.execute_input": "2025-04-21T09:22:50.306123Z",
          "iopub.status.idle": "2025-04-21T09:22:50.337206Z",
          "shell.execute_reply.started": "2025-04-21T09:22:50.30609Z",
          "shell.execute_reply": "2025-04-21T09:22:50.33616Z"
        },
        "id": "G5AFZTWAF3Rl",
        "outputId": "b9b83a88-d9b7-4c80-ca8c-13f72807ab16"
      },
      "outputs": [
        {
          "name": "stdout",
          "text": "2557278    83.108121\ndtype: float64 2557278    71.635831\ndtype: float64 2557278    49.593464\ndtype: float64 2557278   -10.635344\ndtype: float64\n(2557278    38.57\nName: x, dtype: float64, 2557278    26.87\nName: y, dtype: float64) (2557278    83.108121\ndtype: float64, 2557278    49.593464\ndtype: float64) (2557278    71.635831\ndtype: float64, 2557278   -10.635344\ndtype: float64)\n",
          "output_type": "stream"
        }
      ],
      "execution_count": null
    },
    {
      "cell_type": "code",
      "source": [
        "# If eligibleguys are indices of the original DataFrame\n",
        "eligible_receivers = whole_sample.loc[eligibleguys]"
      ],
      "metadata": {
        "trusted": true,
        "execution": {
          "iopub.status.busy": "2025-04-21T10:33:58.269754Z",
          "iopub.execute_input": "2025-04-21T10:33:58.270145Z",
          "iopub.status.idle": "2025-04-21T10:33:58.275786Z",
          "shell.execute_reply.started": "2025-04-21T10:33:58.270116Z",
          "shell.execute_reply": "2025-04-21T10:33:58.274583Z"
        },
        "id": "L7_DigdGF3Rl"
      },
      "outputs": [],
      "execution_count": null
    },
    {
      "cell_type": "code",
      "source": [
        "sample_pass=week_1.query('event == \"pass_forward\"').sample(n=1)"
      ],
      "metadata": {
        "trusted": true,
        "execution": {
          "iopub.status.busy": "2025-07-13T22:31:25.800353Z",
          "iopub.execute_input": "2025-07-13T22:31:25.800694Z",
          "iopub.status.idle": "2025-07-13T22:31:26.228101Z",
          "shell.execute_reply.started": "2025-07-13T22:31:25.800668Z",
          "shell.execute_reply": "2025-07-13T22:31:26.226955Z"
        },
        "id": "SPTS4XsgF3Rm"
      },
      "outputs": [],
      "execution_count": null
    },
    {
      "cell_type": "code",
      "source": [
        "forwardplay=week_1.query('gameId == @sample_pass.iloc[0].gameId & playId == @sample_pass.iloc[0].playId')"
      ],
      "metadata": {
        "trusted": true,
        "execution": {
          "iopub.status.busy": "2025-07-13T22:32:05.732555Z",
          "iopub.execute_input": "2025-07-13T22:32:05.732898Z",
          "iopub.status.idle": "2025-07-13T22:32:05.85961Z",
          "shell.execute_reply.started": "2025-07-13T22:32:05.732872Z",
          "shell.execute_reply": "2025-07-13T22:32:05.858728Z"
        },
        "id": "49y-JgjaF3Rm"
      },
      "outputs": [],
      "execution_count": null
    },
    {
      "cell_type": "code",
      "source": [
        "week_2 =  week_1.copy()"
      ],
      "metadata": {
        "trusted": true,
        "execution": {
          "iopub.status.busy": "2025-07-13T22:32:12.744625Z",
          "iopub.execute_input": "2025-07-13T22:32:12.744966Z",
          "iopub.status.idle": "2025-07-13T22:32:17.35147Z",
          "shell.execute_reply.started": "2025-07-13T22:32:12.744938Z",
          "shell.execute_reply": "2025-07-13T22:32:17.350416Z"
        },
        "id": "RSZvRVNoF3Rm"
      },
      "outputs": [],
      "execution_count": null
    },
    {
      "cell_type": "code",
      "source": [
        "has_fractional = week_2['time'].str.contains(r'\\.\\d+$')\n",
        "week_2.loc[has_fractional, 'time'] = pd.to_datetime(week_2.loc[has_fractional, 'time'], format='%Y-%m-%d %H:%M:%S.%f')\n",
        "\n",
        "# Parse rows without fractional seconds\n",
        "week_2.loc[~has_fractional, 'time'] = pd.to_datetime(week_2.loc[~has_fractional, 'time'], format='%Y-%m-%d %H:%M:%S')"
      ],
      "metadata": {
        "trusted": true,
        "execution": {
          "iopub.status.busy": "2025-07-13T22:32:19.964514Z",
          "iopub.execute_input": "2025-07-13T22:32:19.96486Z",
          "iopub.status.idle": "2025-07-13T22:32:49.47649Z",
          "shell.execute_reply.started": "2025-07-13T22:32:19.964836Z",
          "shell.execute_reply": "2025-07-13T22:32:49.475359Z"
        },
        "id": "6Q1yOCCWF3Rm"
      },
      "outputs": [],
      "execution_count": null
    },
    {
      "cell_type": "code",
      "source": [
        "!df -h"
      ],
      "metadata": {
        "trusted": true,
        "id": "d4OlmSt9F3Rm"
      },
      "outputs": [],
      "execution_count": null
    },
    {
      "cell_type": "code",
      "source": [
        "week_2['time_diff']=week_2.groupby(['gameId','playId']).time.diff()"
      ],
      "metadata": {
        "trusted": true,
        "execution": {
          "iopub.status.busy": "2025-07-13T22:32:57.113543Z",
          "iopub.execute_input": "2025-07-13T22:32:57.113956Z",
          "iopub.status.idle": "2025-07-13T22:33:18.797496Z",
          "shell.execute_reply.started": "2025-07-13T22:32:57.113925Z",
          "shell.execute_reply": "2025-07-13T22:33:18.796574Z"
        },
        "id": "4L-t25mXF3Rn"
      },
      "outputs": [],
      "execution_count": null
    },
    {
      "cell_type": "code",
      "source": [
        "def pass_speed(df):\n",
        "    football_df = df[df['displayName']=='football']\n",
        "    # Sort the DataFrame by gameId, playId, and frameId\n",
        "    football_df = football_df.sort_values(['gameId', 'playId', 'frameId']).reset_index(drop=True)\n",
        "\n",
        "    # Identify the ranges of interest\n",
        "    ranges = []\n",
        "    for (game_id, play_id), group in football_df.groupby(['gameId', 'playId']):\n",
        "        in_range = False\n",
        "        start_frame = None\n",
        "\n",
        "        for i, row in group.iterrows():\n",
        "            if row['event'] == 'pass_forward' and not in_range:\n",
        "                in_range = True\n",
        "                start_frame = row['frameId']\n",
        "            elif pd.notna(row['event']) and in_range:\n",
        "                ranges.append((game_id, play_id, start_frame, row['frameId']))\n",
        "                in_range = False  # End the range once the next event is reached\n",
        "\n",
        "    # Create a DataFrame to store the ranges\n",
        "    ranges_df = pd.DataFrame(ranges, columns=['gameId', 'playId', 'start_frame', 'end_frame'])\n",
        "    print(ranges_df.shape)\n",
        "    # Initialize a list to store filtered results\n",
        "    filtered_frames = []\n",
        "\n",
        "    # Iterate over each range in ranges_df and filter frames\n",
        "    for _, range_row in ranges_df.iterrows():\n",
        "        game_id = range_row['gameId']\n",
        "        play_id = range_row['playId']\n",
        "        start_frame = range_row['start_frame']\n",
        "        end_frame = range_row['end_frame']\n",
        "\n",
        "        # Filter frames for the current range\n",
        "        filtered_range = football_df[\n",
        "            (football_df['gameId'] == game_id) &\n",
        "            (football_df['playId'] == play_id) &\n",
        "            (football_df['frameId'] >= start_frame) &\n",
        "            (football_df['frameId'] <= end_frame)\n",
        "        ].copy()\n",
        "        filtered_range.loc[:, 'start_frame'] = start_frame  # Explicitly set 'start_frame'\n",
        "        filtered_range.loc[:, 'end_frame'] = end_frame      # Explicitly set 'end_frame'\n",
        "        # Append the filtered range to the list\n",
        "        filtered_frames.append(filtered_range)\n",
        "\n",
        "    # Concatenate all filtered frames into a single DataFrame\n",
        "    filtered_df = pd.concat(filtered_frames, ignore_index=True)\n",
        "    # print(filtered_df.groupby(['gameId', 'playId', 'start_frame', 'end_frame']).size())\n",
        "\n",
        "    # Group by gameId, playId, start_frame, and end_frame\n",
        "    def calculate_distance(group):\n",
        "        first_frame = group.iloc[0]\n",
        "        last_frame = group.iloc[-1]\n",
        "        dx = last_frame['x'] - first_frame['x']\n",
        "        dy = last_frame['y'] - first_frame['y']\n",
        "        return np.sqrt(dx**2 + dy**2)\n",
        "\n",
        "    # Group by gameId, playId, start_frame, and end_frame and apply calculations\n",
        "    pass_stats = (\n",
        "        filtered_df.groupby(['gameId', 'playId', 'start_frame', 'end_frame'])\n",
        "        .apply(lambda group: pd.Series({\n",
        "            'average_speed': group['s'].mean(),\n",
        "            'total_distance': calculate_distance(group)\n",
        "        }))\n",
        "        .reset_index()\n",
        "    )\n",
        "\n",
        "    return pass_stats\n"
      ],
      "metadata": {
        "trusted": true,
        "execution": {
          "iopub.status.busy": "2025-07-19T06:44:10.534157Z",
          "iopub.execute_input": "2025-07-19T06:44:10.534485Z",
          "iopub.status.idle": "2025-07-19T06:44:10.544237Z",
          "shell.execute_reply.started": "2025-07-19T06:44:10.534461Z",
          "shell.execute_reply": "2025-07-19T06:44:10.542956Z"
        },
        "id": "ICG9nSxfF3Rn"
      },
      "outputs": [],
      "execution_count": null
    },
    {
      "cell_type": "code",
      "source": [
        "pass_speeds=pass_speed(week_1)\n"
      ],
      "metadata": {
        "trusted": true,
        "execution": {
          "iopub.status.busy": "2025-07-19T06:44:13.321081Z",
          "iopub.execute_input": "2025-07-19T06:44:13.321494Z",
          "iopub.status.idle": "2025-07-19T06:44:35.140491Z",
          "shell.execute_reply.started": "2025-07-19T06:44:13.321462Z",
          "shell.execute_reply": "2025-07-19T06:44:35.139338Z"
        },
        "id": "mcXf0fRGF3Rn",
        "outputId": "af89642d-f8fd-4fa2-a5d1-2c4c28fd5210"
      },
      "outputs": [
        {
          "name": "stdout",
          "text": "(1078, 4)\n",
          "output_type": "stream"
        },
        {
          "name": "stderr",
          "text": "<ipython-input-15-64c7a86fbc47>:60: DeprecationWarning: DataFrameGroupBy.apply operated on the grouping columns. This behavior is deprecated, and in a future version of pandas the grouping columns will be excluded from the operation. Either pass `include_groups=False` to exclude the groupings or explicitly select the grouping columns after groupby to silence this warning.\n  .apply(lambda group: pd.Series({\n",
          "output_type": "stream"
        }
      ],
      "execution_count": null
    },
    {
      "cell_type": "code",
      "source": [
        "pass_speeds"
      ],
      "metadata": {
        "trusted": true,
        "execution": {
          "iopub.status.busy": "2025-07-16T19:27:57.524292Z",
          "iopub.execute_input": "2025-07-16T19:27:57.524927Z",
          "iopub.status.idle": "2025-07-16T19:27:57.545131Z",
          "shell.execute_reply.started": "2025-07-16T19:27:57.524884Z",
          "shell.execute_reply": "2025-07-16T19:27:57.543387Z"
        },
        "id": "D5Eq3XFIF3Rn",
        "outputId": "1bf7615e-5a4b-47a3-afa4-d1a89a6761f8"
      },
      "outputs": [
        {
          "execution_count": 16,
          "output_type": "execute_result",
          "data": {
            "text/plain": "          gameId  playId  start_frame  end_frame  average_speed  \\\n0     2022090800      56          167        172      11.630000   \n1     2022090800     122          142        148       8.541429   \n2     2022090800     167          121        126      15.585000   \n3     2022090800     212          153        159      17.197143   \n4     2022090800     236          119        134      12.766250   \n...          ...     ...          ...        ...            ...   \n1073  2022091200    3628          148        154      17.440000   \n1074  2022091200    3723          337        343      15.358572   \n1075  2022091200    3747           61         66       5.943333   \n1076  2022091200    3795          173        174       2.330000   \n1077  2022091200    3826          119        126      18.685000   \n\n      total_distance  \n0           9.234988  \n1           6.323448  \n2          11.083127  \n3          10.775119  \n4          22.477731  \n...              ...  \n1073       14.672563  \n1074        9.994003  \n1075        2.955757  \n1076        0.214709  \n1077       13.052180  \n\n[1078 rows x 6 columns]",
            "text/html": "<div>\n<style scoped>\n    .dataframe tbody tr th:only-of-type {\n        vertical-align: middle;\n    }\n\n    .dataframe tbody tr th {\n        vertical-align: top;\n    }\n\n    .dataframe thead th {\n        text-align: right;\n    }\n</style>\n<table border=\"1\" class=\"dataframe\">\n  <thead>\n    <tr style=\"text-align: right;\">\n      <th></th>\n      <th>gameId</th>\n      <th>playId</th>\n      <th>start_frame</th>\n      <th>end_frame</th>\n      <th>average_speed</th>\n      <th>total_distance</th>\n    </tr>\n  </thead>\n  <tbody>\n    <tr>\n      <th>0</th>\n      <td>2022090800</td>\n      <td>56</td>\n      <td>167</td>\n      <td>172</td>\n      <td>11.630000</td>\n      <td>9.234988</td>\n    </tr>\n    <tr>\n      <th>1</th>\n      <td>2022090800</td>\n      <td>122</td>\n      <td>142</td>\n      <td>148</td>\n      <td>8.541429</td>\n      <td>6.323448</td>\n    </tr>\n    <tr>\n      <th>2</th>\n      <td>2022090800</td>\n      <td>167</td>\n      <td>121</td>\n      <td>126</td>\n      <td>15.585000</td>\n      <td>11.083127</td>\n    </tr>\n    <tr>\n      <th>3</th>\n      <td>2022090800</td>\n      <td>212</td>\n      <td>153</td>\n      <td>159</td>\n      <td>17.197143</td>\n      <td>10.775119</td>\n    </tr>\n    <tr>\n      <th>4</th>\n      <td>2022090800</td>\n      <td>236</td>\n      <td>119</td>\n      <td>134</td>\n      <td>12.766250</td>\n      <td>22.477731</td>\n    </tr>\n    <tr>\n      <th>...</th>\n      <td>...</td>\n      <td>...</td>\n      <td>...</td>\n      <td>...</td>\n      <td>...</td>\n      <td>...</td>\n    </tr>\n    <tr>\n      <th>1073</th>\n      <td>2022091200</td>\n      <td>3628</td>\n      <td>148</td>\n      <td>154</td>\n      <td>17.440000</td>\n      <td>14.672563</td>\n    </tr>\n    <tr>\n      <th>1074</th>\n      <td>2022091200</td>\n      <td>3723</td>\n      <td>337</td>\n      <td>343</td>\n      <td>15.358572</td>\n      <td>9.994003</td>\n    </tr>\n    <tr>\n      <th>1075</th>\n      <td>2022091200</td>\n      <td>3747</td>\n      <td>61</td>\n      <td>66</td>\n      <td>5.943333</td>\n      <td>2.955757</td>\n    </tr>\n    <tr>\n      <th>1076</th>\n      <td>2022091200</td>\n      <td>3795</td>\n      <td>173</td>\n      <td>174</td>\n      <td>2.330000</td>\n      <td>0.214709</td>\n    </tr>\n    <tr>\n      <th>1077</th>\n      <td>2022091200</td>\n      <td>3826</td>\n      <td>119</td>\n      <td>126</td>\n      <td>18.685000</td>\n      <td>13.052180</td>\n    </tr>\n  </tbody>\n</table>\n<p>1078 rows × 6 columns</p>\n</div>"
          },
          "metadata": {}
        }
      ],
      "execution_count": null
    },
    {
      "cell_type": "code",
      "source": [
        "pass_speeds[['average_speed','total_distance']] = pass_speeds[['average_speed','total_distance']].apply(lambda x:x.round(2))"
      ],
      "metadata": {
        "trusted": true,
        "execution": {
          "iopub.status.busy": "2025-07-19T06:44:42.588355Z",
          "iopub.execute_input": "2025-07-19T06:44:42.588809Z",
          "iopub.status.idle": "2025-07-19T06:44:42.598889Z",
          "shell.execute_reply.started": "2025-07-19T06:44:42.588767Z",
          "shell.execute_reply": "2025-07-19T06:44:42.597754Z"
        },
        "id": "U8Fi5k52F3Rn"
      },
      "outputs": [],
      "execution_count": null
    },
    {
      "cell_type": "code",
      "source": [
        "# Define distance bins (ranges) and labels\n",
        "bins = [0, 10, 20, 30, 40,50,60,70]  # Adjust the bins as needed\n",
        "labels = ['0-10', '11-20', '21-30', '31-40','41-50','51-60','61-70']\n"
      ],
      "metadata": {
        "trusted": true,
        "execution": {
          "iopub.status.busy": "2025-07-19T06:44:45.11019Z",
          "iopub.execute_input": "2025-07-19T06:44:45.110547Z",
          "iopub.status.idle": "2025-07-19T06:44:45.115438Z",
          "shell.execute_reply.started": "2025-07-19T06:44:45.110516Z",
          "shell.execute_reply": "2025-07-19T06:44:45.114176Z"
        },
        "id": "eQDyiw5RF3Ro"
      },
      "outputs": [],
      "execution_count": null
    },
    {
      "cell_type": "code",
      "source": [
        "# Assign each row to a distance range\n",
        "pass_speeds['distance_range'] = pd.cut(pass_speeds['total_distance'], bins=bins, labels=labels, right=True)\n",
        "print(pd.cut(pass_speeds['total_distance'], bins=bins, labels=labels, right=True)\n",
        ")\n",
        "# Group by the distance range and calculate the average speed for each range\n",
        "summary_df = pass_speeds.groupby('distance_range')['average_speed'].mean().reset_index()\n",
        "\n",
        "# Rename columns for clarity\n",
        "summary_df.rename(columns={'average_speed': 'average_speed_in_range'}, inplace=True)\n",
        "\n",
        "print(summary_df)\n"
      ],
      "metadata": {
        "trusted": true,
        "execution": {
          "iopub.status.busy": "2025-07-19T06:44:47.738186Z",
          "iopub.execute_input": "2025-07-19T06:44:47.738586Z",
          "iopub.status.idle": "2025-07-19T06:44:47.770528Z",
          "shell.execute_reply.started": "2025-07-19T06:44:47.738557Z",
          "shell.execute_reply": "2025-07-19T06:44:47.769119Z"
        },
        "id": "Bt1OeW5tF3Ro",
        "outputId": "564a8194-4ba8-4b09-a92b-29bf710ac1da"
      },
      "outputs": [
        {
          "name": "stdout",
          "text": "0        0-10\n1        0-10\n2       11-20\n3       11-20\n4       21-30\n        ...  \n1073    11-20\n1074     0-10\n1075     0-10\n1076     0-10\n1077    11-20\nName: total_distance, Length: 1078, dtype: category\nCategories (7, object): ['0-10' < '11-20' < '21-30' < '31-40' < '41-50' < '51-60' < '61-70']\n  distance_range  average_speed_in_range\n0           0-10                9.741576\n1          11-20               16.000305\n2          21-30               18.201609\n3          31-40               18.393800\n4          41-50               17.687297\n5          51-60               18.557727\n6          61-70               19.310000\n",
          "output_type": "stream"
        },
        {
          "name": "stderr",
          "text": "<ipython-input-19-8d8da8ce420b>:6: FutureWarning: The default of observed=False is deprecated and will be changed to True in a future version of pandas. Pass observed=False to retain current behavior or observed=True to adopt the future default and silence this warning.\n  summary_df = pass_speeds.groupby('distance_range')['average_speed'].mean().reset_index()\n",
          "output_type": "stream"
        }
      ],
      "execution_count": null
    },
    {
      "cell_type": "code",
      "source": [
        "summary_df = summary_df.round(2)"
      ],
      "metadata": {
        "trusted": true,
        "execution": {
          "iopub.status.busy": "2025-07-19T06:44:52.203044Z",
          "iopub.execute_input": "2025-07-19T06:44:52.203481Z",
          "iopub.status.idle": "2025-07-19T06:44:52.210472Z",
          "shell.execute_reply.started": "2025-07-19T06:44:52.203448Z",
          "shell.execute_reply": "2025-07-19T06:44:52.209281Z"
        },
        "id": "P5-KusQBF3Ro"
      },
      "outputs": [],
      "execution_count": null
    },
    {
      "cell_type": "code",
      "source": [
        "summary_df"
      ],
      "metadata": {
        "trusted": true,
        "execution": {
          "iopub.status.busy": "2025-07-16T19:57:10.191538Z",
          "iopub.execute_input": "2025-07-16T19:57:10.192003Z",
          "iopub.status.idle": "2025-07-16T19:57:10.212854Z",
          "shell.execute_reply.started": "2025-07-16T19:57:10.191966Z",
          "shell.execute_reply": "2025-07-16T19:57:10.208614Z"
        },
        "id": "V_JJ211RF3Ro",
        "outputId": "11f55589-2920-4149-8ec6-39aa543d4987"
      },
      "outputs": [
        {
          "execution_count": 21,
          "output_type": "execute_result",
          "data": {
            "text/plain": "  distance_range  average_speed_in_range\n0           0-10                    9.74\n1          11-20                   16.00\n2          21-30                   18.20\n3          31-40                   18.39\n4          41-50                   17.69\n5          51-60                   18.56\n6          61-70                   19.31",
            "text/html": "<div>\n<style scoped>\n    .dataframe tbody tr th:only-of-type {\n        vertical-align: middle;\n    }\n\n    .dataframe tbody tr th {\n        vertical-align: top;\n    }\n\n    .dataframe thead th {\n        text-align: right;\n    }\n</style>\n<table border=\"1\" class=\"dataframe\">\n  <thead>\n    <tr style=\"text-align: right;\">\n      <th></th>\n      <th>distance_range</th>\n      <th>average_speed_in_range</th>\n    </tr>\n  </thead>\n  <tbody>\n    <tr>\n      <th>0</th>\n      <td>0-10</td>\n      <td>9.74</td>\n    </tr>\n    <tr>\n      <th>1</th>\n      <td>11-20</td>\n      <td>16.00</td>\n    </tr>\n    <tr>\n      <th>2</th>\n      <td>21-30</td>\n      <td>18.20</td>\n    </tr>\n    <tr>\n      <th>3</th>\n      <td>31-40</td>\n      <td>18.39</td>\n    </tr>\n    <tr>\n      <th>4</th>\n      <td>41-50</td>\n      <td>17.69</td>\n    </tr>\n    <tr>\n      <th>5</th>\n      <td>51-60</td>\n      <td>18.56</td>\n    </tr>\n    <tr>\n      <th>6</th>\n      <td>61-70</td>\n      <td>19.31</td>\n    </tr>\n  </tbody>\n</table>\n</div>"
          },
          "metadata": {}
        }
      ],
      "execution_count": null
    },
    {
      "cell_type": "code",
      "source": [
        "def select_random_post_snap_pre_pass(df):\n",
        "    \"\"\"\n",
        "    Select a random (gameId, playId, frameId) combination where:\n",
        "    - The `event` column is NaN.\n",
        "    - The last valid `event` value was 'ball_snap'.\n",
        "\n",
        "    Args:\n",
        "        df (pd.DataFrame): The input DataFrame with columns ['gameId', 'playId', 'frameId', 'event'].\n",
        "\n",
        "    Returns:\n",
        "        tuple: A random (gameId, playId, frameId) tuple meeting the constraints.\n",
        "    \"\"\"\n",
        "    # Sort the DataFrame to ensure a meaningful order for checking \"last valid value\"\n",
        "    df = df.sort_values(['gameId', 'playId', 'frameId']).reset_index(drop=True)\n",
        "\n",
        "    # Filter rows where event is NaN\n",
        "    missing_event_df = df[df['event'].isna()]\n",
        "\n",
        "    # Identify rows where the last valid event was 'ball_snap'\n",
        "    def last_event_is_ball_snap(group):\n",
        "        group['last_valid_event'] = group['event'].ffill()  # Forward-fill events\n",
        "        return group[(group['event'].isna()) & (group['last_valid_event'] == 'ball_snap')]\n",
        "\n",
        "    # Apply the filter group-wise for each (gameId, playId)\n",
        "    valid_rows = (\n",
        "        df.groupby(['gameId', 'playId'], group_keys=False)\n",
        "        .apply(last_event_is_ball_snap)\n",
        "    )\n",
        "\n",
        "    # Check if any valid rows are available\n",
        "    if valid_rows.empty:\n",
        "        raise ValueError(\"No valid combinations found where event is NaN and last valid event is 'ball_snap'.\")\n",
        "\n",
        "    # Randomly select one row\n",
        "    random_row = valid_rows.sample(n=1).iloc[0]\n",
        "\n",
        "    # Return the combination (gameId, playId, frameId)\n",
        "    return (random_row['gameId'], random_row['playId'], random_row['frameId'])\n"
      ],
      "metadata": {
        "trusted": true,
        "execution": {
          "iopub.status.busy": "2025-07-19T06:44:56.014681Z",
          "iopub.execute_input": "2025-07-19T06:44:56.015054Z",
          "iopub.status.idle": "2025-07-19T06:44:56.021751Z",
          "shell.execute_reply.started": "2025-07-19T06:44:56.015015Z",
          "shell.execute_reply": "2025-07-19T06:44:56.020667Z"
        },
        "id": "H4uHiG-eF3Ro"
      },
      "outputs": [],
      "execution_count": null
    },
    {
      "cell_type": "code",
      "source": [
        "def get_eligible_receivers(df,qb_df):\n",
        "    \"\"\"\n",
        "    Perform the combined operation of selecting a random post-snap, pre-pass frame\n",
        "    and identifying eligible receivers for that frame.\n",
        "\n",
        "    Args:\n",
        "        df (pd.DataFrame): The input DataFrame with columns ['gameId', 'playId', 'frameId', 'event', 'nflId', 'x', 'y', 'position'].\n",
        "\n",
        "    Returns:\n",
        "        dict: Information about the selected play and eligible receivers.\n",
        "              Example:\n",
        "              {\n",
        "                  'gameId': int,\n",
        "                  'playId': int,\n",
        "                  'frameId': int,\n",
        "                  'eligible_receivers': list of indices\n",
        "              }\n",
        "    \"\"\"\n",
        "    # Step 1: Select a random (gameId, playId, frameId)\n",
        "    selected_tuple = select_random_post_snap_pre_pass(df)\n",
        "\n",
        "    # Step 2: Filter DataFrame for the selected tuple\n",
        "    filtered_df = df[\n",
        "        (df['gameId'] == selected_tuple[0]) &\n",
        "        (df['playId'] == selected_tuple[1]) &\n",
        "        (df['frameId'] == selected_tuple[2])\n",
        "    ]\n",
        "\n",
        "    if filtered_df.empty:\n",
        "        raise ValueError(\"No data found for the selected (gameId, playId, frameId).\")\n",
        "\n",
        "    # Step 3: Identify the QB\n",
        "    qb_row = filtered_df[filtered_df['position'] == 'QB']  # Assuming 'QB' identifies the quarterback\n",
        "    if qb_row.empty:\n",
        "        raise ValueError(\"No QB data found for the selected frame.\")\n",
        "\n",
        "    qb_x, qb_y = qb_row.iloc[0]['x'], qb_row.iloc[0]['y']\n",
        "    # print(qb_row)\n",
        "    # Step 4: Determine angle, spread, and max_range\n",
        "    # These values can be calculated or derived based on game-specific logic.\n",
        "    # For simplicity, using hardcoded values here, but they could depend on the QB's stats or play data.\n",
        "    angle = qb_row.iloc[0].o\n",
        "    spread = calculate_spread(angle)\n",
        "    qb_name = qb_row.iloc[0].displayName\n",
        "    max_range = qb_df[qb_df['PLAYER NAME']==qb_name].iloc[0].LCAD # Example: Maximum range of the field of view triangle in yards\n",
        "\n",
        "    # Step 5: Identify eligible receivers\n",
        "    receiver_rows = filtered_df.query('position==\"WR\"|position==\"TE\"|position == \"RB\"')  # Assuming 'WR' as receiver position\n",
        "    eligible = eligible_receivers(qb_x, qb_y, angle, spread, max_range, receiver_rows)\n",
        "\n",
        "    # Step 6: Return the results\n",
        "    return {\n",
        "        'gameId': selected_tuple[0],\n",
        "        'playId': selected_tuple[1],\n",
        "        'frameId': selected_tuple[2],\n",
        "        'eligible_receivers': eligible\n",
        "    }\n"
      ],
      "metadata": {
        "trusted": true,
        "execution": {
          "iopub.status.busy": "2025-07-19T06:45:02.562353Z",
          "iopub.execute_input": "2025-07-19T06:45:02.562695Z",
          "iopub.status.idle": "2025-07-19T06:45:02.570791Z",
          "shell.execute_reply.started": "2025-07-19T06:45:02.562668Z",
          "shell.execute_reply": "2025-07-19T06:45:02.569616Z"
        },
        "id": "27zfGugSF3Rp"
      },
      "outputs": [],
      "execution_count": null
    },
    {
      "cell_type": "code",
      "source": [
        "qbstats.drop(columns=\"Unnamed: 0\",inplace=True)"
      ],
      "metadata": {
        "trusted": true,
        "execution": {
          "iopub.status.busy": "2025-07-19T06:45:07.789989Z",
          "iopub.execute_input": "2025-07-19T06:45:07.790421Z",
          "iopub.status.idle": "2025-07-19T06:45:07.796523Z",
          "shell.execute_reply.started": "2025-07-19T06:45:07.790387Z",
          "shell.execute_reply": "2025-07-19T06:45:07.795128Z"
        },
        "id": "tGjYs6K5F3Rp"
      },
      "outputs": [],
      "execution_count": null
    },
    {
      "cell_type": "code",
      "source": [
        "qbstats.dropna(inplace=True)"
      ],
      "metadata": {
        "trusted": true,
        "execution": {
          "iopub.status.busy": "2025-07-19T06:45:10.53015Z",
          "iopub.execute_input": "2025-07-19T06:45:10.530492Z",
          "iopub.status.idle": "2025-07-19T06:45:10.536391Z",
          "shell.execute_reply.started": "2025-07-19T06:45:10.530467Z",
          "shell.execute_reply": "2025-07-19T06:45:10.535155Z"
        },
        "id": "h4LRfM5TF3Rp"
      },
      "outputs": [],
      "execution_count": null
    },
    {
      "cell_type": "code",
      "source": [
        "get_eligible_receivers(week_1,qb_stats)"
      ],
      "metadata": {
        "trusted": true,
        "execution": {
          "iopub.status.busy": "2025-07-19T06:46:00.190865Z",
          "iopub.execute_input": "2025-07-19T06:46:00.191235Z",
          "iopub.status.idle": "2025-07-19T06:46:12.701286Z",
          "shell.execute_reply.started": "2025-07-19T06:46:00.191205Z",
          "shell.execute_reply": "2025-07-19T06:46:12.700315Z"
        },
        "id": "Oemn4w-QF3Rq",
        "outputId": "cb43a483-67e5-453a-e832-3b2f2aded122"
      },
      "outputs": [
        {
          "name": "stderr",
          "text": "<ipython-input-21-0d6e418281b2>:27: DeprecationWarning: DataFrameGroupBy.apply operated on the grouping columns. This behavior is deprecated, and in a future version of pandas the grouping columns will be excluded from the operation. Either pass `include_groups=False` to exclude the groupings or explicitly select the grouping columns after groupby to silence this warning.\n  .apply(last_event_is_ball_snap)\n",
          "output_type": "stream"
        },
        {
          "name": "stdout",
          "text": "50 51 60 62\n",
          "output_type": "stream"
        },
        {
          "execution_count": 28,
          "output_type": "execute_result",
          "data": {
            "text/plain": "{'gameId': 2022091200,\n 'playId': 1028,\n 'frameId': 115,\n 'eligible_receivers': []}"
          },
          "metadata": {}
        }
      ],
      "execution_count": null
    },
    {
      "cell_type": "code",
      "source": [
        "airtimes.to_pickle('/kaggle/working/airtimes.pkl')"
      ],
      "metadata": {
        "trusted": true,
        "execution": {
          "iopub.status.busy": "2025-05-13T12:19:42.175573Z",
          "iopub.execute_input": "2025-05-13T12:19:42.175931Z",
          "iopub.status.idle": "2025-05-13T12:19:42.18186Z",
          "shell.execute_reply.started": "2025-05-13T12:19:42.175901Z",
          "shell.execute_reply": "2025-05-13T12:19:42.180925Z"
        },
        "id": "TWmGL_SLF3Rq"
      },
      "outputs": [],
      "execution_count": null
    },
    {
      "cell_type": "code",
      "source": [
        "airtimes=dfs['airtimes']"
      ],
      "metadata": {
        "trusted": true,
        "execution": {
          "iopub.status.busy": "2025-07-19T06:46:29.278964Z",
          "iopub.execute_input": "2025-07-19T06:46:29.279312Z",
          "iopub.status.idle": "2025-07-19T06:46:29.283663Z",
          "shell.execute_reply.started": "2025-07-19T06:46:29.279284Z",
          "shell.execute_reply": "2025-07-19T06:46:29.282492Z"
        },
        "id": "nbeOqOt0F3Rq"
      },
      "outputs": [],
      "execution_count": null
    },
    {
      "cell_type": "code",
      "source": [
        "airtimes=airtimes.apply(np.ceil)"
      ],
      "metadata": {
        "trusted": true,
        "execution": {
          "iopub.status.busy": "2025-07-19T06:46:34.767215Z",
          "iopub.execute_input": "2025-07-19T06:46:34.767536Z",
          "iopub.status.idle": "2025-07-19T06:46:34.772223Z",
          "shell.execute_reply.started": "2025-07-19T06:46:34.767512Z",
          "shell.execute_reply": "2025-07-19T06:46:34.771018Z"
        },
        "id": "orlVYfudF3Rq"
      },
      "outputs": [],
      "execution_count": null
    },
    {
      "cell_type": "code",
      "source": [
        "airtimes"
      ],
      "metadata": {
        "trusted": true,
        "execution": {
          "iopub.status.busy": "2025-07-19T06:46:36.563334Z",
          "iopub.execute_input": "2025-07-19T06:46:36.563685Z",
          "iopub.status.idle": "2025-07-19T06:46:36.572778Z",
          "shell.execute_reply.started": "2025-07-19T06:46:36.563655Z",
          "shell.execute_reply": "2025-07-19T06:46:36.571702Z"
        },
        "id": "6svJbxmIF3Rq",
        "outputId": "595d5874-20e1-4312-e212-9a6751f325fd"
      },
      "outputs": [
        {
          "execution_count": 33,
          "output_type": "execute_result",
          "data": {
            "text/plain": "                airtime\ndistance_range         \n0-10                5.0\n11-20               8.0\n21-30              12.0\n31-40              17.0\n41-50              24.0\n51-60              27.0\n61-70              30.0",
            "text/html": "<div>\n<style scoped>\n    .dataframe tbody tr th:only-of-type {\n        vertical-align: middle;\n    }\n\n    .dataframe tbody tr th {\n        vertical-align: top;\n    }\n\n    .dataframe thead th {\n        text-align: right;\n    }\n</style>\n<table border=\"1\" class=\"dataframe\">\n  <thead>\n    <tr style=\"text-align: right;\">\n      <th></th>\n      <th>airtime</th>\n    </tr>\n    <tr>\n      <th>distance_range</th>\n      <th></th>\n    </tr>\n  </thead>\n  <tbody>\n    <tr>\n      <th>0-10</th>\n      <td>5.0</td>\n    </tr>\n    <tr>\n      <th>11-20</th>\n      <td>8.0</td>\n    </tr>\n    <tr>\n      <th>21-30</th>\n      <td>12.0</td>\n    </tr>\n    <tr>\n      <th>31-40</th>\n      <td>17.0</td>\n    </tr>\n    <tr>\n      <th>41-50</th>\n      <td>24.0</td>\n    </tr>\n    <tr>\n      <th>51-60</th>\n      <td>27.0</td>\n    </tr>\n    <tr>\n      <th>61-70</th>\n      <td>30.0</td>\n    </tr>\n  </tbody>\n</table>\n</div>"
          },
          "metadata": {}
        }
      ],
      "execution_count": null
    },
    {
      "cell_type": "code",
      "source": [
        "def process_eligible_receivers(df, qb_df, airtimes):\n",
        "    \"\"\"\n",
        "    Processes eligible receivers and calculates distances and data for the ball-reach frames.\n",
        "\n",
        "    Args:\n",
        "        df (pd.DataFrame): Input DataFrame with play and positional data.\n",
        "        qb_df (pd.DataFrame): QB-specific data containing range information.\n",
        "        airtimes (pd.DataFrame): DataFrame with average airtime for each distance range.\n",
        "\n",
        "    Returns:\n",
        "        pd.DataFrame: Data for eligible receivers including distances and ball-reach frames.\n",
        "    \"\"\"\n",
        "    import numpy as np\n",
        "\n",
        "    # Helper function to determine the range for a given distance\n",
        "    def get_airtime(distance):\n",
        "        for range_str, (lower, upper) in ranges.items():\n",
        "            if lower <= distance <= upper:\n",
        "                return airtimes.loc[range_str]\n",
        "\n",
        "        return None  # Fallback if no range matches\n",
        "\n",
        "    def range_parser(range_str):\n",
        "        lower, upper = map(int,range_str.split(\"-\"))\n",
        "        return lower, upper\n",
        "    attempt =0\n",
        "    max_attempts = 20\n",
        "    result = None\n",
        "    while not result and attempt<max_attempts:\n",
        "        # Step 1: Get eligible receivers\n",
        "        result = get_eligible_receivers(df, qb_df)\n",
        "        attempt+=1\n",
        "    # Unpack the results\n",
        "    game_id, play_id, frame_id, eligible_indices = (\n",
        "        result[\"gameId\"],\n",
        "        result[\"playId\"],\n",
        "        result[\"frameId\"],\n",
        "        result[\"eligible_receivers\"],\n",
        "    )\n",
        "    # print(eligible_indices)\n",
        "\n",
        "    # Step 2: Filter DataFrame for the selected play and eligible receivers\n",
        "    filtered_df = df[\n",
        "        (df[\"gameId\"] == game_id) &\n",
        "        (df[\"playId\"] == play_id) &\n",
        "        (df[\"frameId\"] == frame_id)\n",
        "    ]\n",
        "\n",
        "    df2 = df[\n",
        "        (df[\"gameId\"] == game_id) &\n",
        "        (df[\"playId\"] == play_id)\n",
        "    ]\n",
        "\n",
        "    print(\"eligible_indices:\", eligible_indices)\n",
        "    print(\"Valid .iloc indices:\", list(range(len(filtered_df))))\n",
        "    if eligible_indices:\n",
        "        print(\"not empty\")\n",
        "    else:\n",
        "        raise ValueError(\"eligible_indices must not be empty.\")\n",
        "    eligible_receivers = filtered_df.loc[eligible_indices]\n",
        "    # print(eligible_receivers)\n",
        "\n",
        "    # Step 3: Get QB position\n",
        "    qb_row = filtered_df[filtered_df[\"position\"] == \"QB\"].iloc[0]\n",
        "    qb_x, qb_y = qb_row[\"x\"], qb_row[\"y\"]\n",
        "    qb_id = qb_row['nflId']\n",
        "    print(qb_df.columns)\n",
        "    qb_details = qb_df[qb_df['PLAYER NAME']==qb_row['displayName']].to_dict(orient='records')\n",
        "    # Step 4: Calculate distances\n",
        "    eligible_receivers = eligible_receivers.assign(\n",
        "        distance_to_qb=lambda row: np.sqrt((row[\"x\"] - qb_x) ** 2 + (row[\"y\"] - qb_y) ** 2)\n",
        "    )\n",
        "\n",
        "    # Step 5: Parse ranges and find airtime for each receiver\n",
        "    ranges = {range_str: range_parser(range_str) for range_str in airtimes.index}\n",
        "    eligible_receivers = eligible_receivers.drop_duplicates(subset=['nflId'])\n",
        "    eligible_receivers[\"airtime\"] = eligible_receivers[\"distance_to_qb\"].apply(get_airtime)\n",
        "\n",
        "    # Step 6: Determine ball-reach frames\n",
        "    eligible_receivers[\"ball_reach_frame\"] = frame_id + eligible_receivers[\"airtime\"].round().astype(int)\n",
        "    receiver_ids = eligible_receivers[\"nflId\"].tolist()\n",
        "    print(eligible_receivers)\n",
        "    # Step 7: Extract data for ball-reach frames\n",
        "    ball_reach_df = df[\n",
        "        (df[\"gameId\"] == game_id) &\n",
        "        (df[\"playId\"] == play_id) &\n",
        "        (df[\"frameId\"].isin(eligible_receivers[\"ball_reach_frame\"].unique())) &\n",
        "        (df[\"nflId\"].isin(receiver_ids))\n",
        "    ].drop_duplicates(subset=['nflId'])\n",
        "    # .drop_duplicates(subset=[\"gameId\", \"playId\", \"nflId\", \"frameId\"])\n",
        "\n",
        "    print(ball_reach_df.duplicated(subset=[ \"nflId\"]).sum())\n",
        "    # print(ball_reach_df)\n",
        "    # Combine and return results\n",
        "    results = eligible_receivers.merge(\n",
        "        ball_reach_df,\n",
        "        on=[\"gameId\", \"playId\", \"nflId\"],\n",
        "        suffixes=(\"_initial\", \"_ball_reach\")\n",
        "    )\n",
        "    # Step 8: Add QB and Closest Defenders\n",
        "    # Exclude defenders from the QB's team\n",
        "    qb_team = qb_row[\"club\"]  # Or use \"club_initial\" if that's the correct column\n",
        "    defenders = filtered_df[\n",
        "        (~filtered_df[\"nflId\"].isin(receiver_ids)) &\n",
        "        (filtered_df[\"position\"] != \"QB\") &\n",
        "        (filtered_df['position'] != \"football\")&\n",
        "        (filtered_df[\"club\"] != qb_team)\n",
        "    ]\n",
        "    rec_defenders = df2[\n",
        "        (~df2[\"nflId\"].isin(receiver_ids)) &\n",
        "        (df2['position'] != \"football\")&\n",
        "        (df2[\"club\"] != qb_team)\n",
        "    ]\n",
        "    closest_def_dict = {}\n",
        "    for id in receiver_ids:\n",
        "        reachframe = results.query('nflId == @id')['ball_reach_frame'].iloc[0]\n",
        "        # Get the receiver's position at the ball reach frame\n",
        "        x_rec, y_rec = (\n",
        "             results.query('nflId == @id')['x_ball_reach'].iloc[0],\n",
        "             results.query('nflId == @id')['y_ball_reach'].iloc[0]\n",
        "        )\n",
        "        x_def,y_def = rec_defenders.query('frameId == @reachframe')['x'],rec_defenders.query('frameId == @reachframe')['y']\n",
        "        rec_defenders = rec_defenders.assign(\n",
        "            distance_from_rec = lambda row: np.sqrt((x_def -x_rec ) ** 2 + (y_def - y_rec) ** 2)\n",
        "        )\n",
        "        closest_rec_def = rec_defenders.nsmallest(4, \"distance_from_rec\")\n",
        "\n",
        "        closest_def_dict[id] = closest_rec_def\n",
        "\n",
        "    # Calculate distances for defenders\n",
        "    defenders = defenders.assign(\n",
        "        distance_to_qb=lambda row: np.sqrt((row[\"x\"] - qb_x) ** 2 + (row[\"y\"] - qb_y) ** 2)\n",
        "    )\n",
        "    # print(defenders)\n",
        "    # Select the 3 closest defenders\n",
        "    closest_defenders = defenders.nsmallest(4, \"distance_to_qb\")\n",
        "    qb_dict = {}\n",
        "    qb_dict[qb_id]  = closest_defenders\n",
        "    print(closest_defenders)\n",
        "    qb_row[\"distance_to_qb\"] = 0  # QB is at the origin relative to himself\n",
        "    all_rows = pd.concat([closest_defenders, pd.DataFrame([qb_row])], ignore_index=True)\n",
        "\n",
        "    # Add missing columns to defenders to match `results`\n",
        "    for col in results.columns:\n",
        "        if col not in all_rows.columns:\n",
        "            all_rows[col] = np.nan  # Initialize missing columns with NaN\n",
        "\n",
        "    # Filter for the same initial frame as in `results`\n",
        "    all_rows = all_rows[all_rows[\"frameId\"] == frame_id]\n",
        "\n",
        "    def_dict = {f\"df{i+1}\":df for i,(key,df) in enumerate(closest_def_dict.items())}\n",
        "    qb_defs = {f\"df{i+1}\":df for i,(key,df) in enumerate(qb_dict.items())}\n",
        "    # Combine all rows into the final results\n",
        "    # results = pd.concat([results, all_rows], ignore_index=True)\n",
        "    return results, def_dict, qb_defs,qb_details, qb_row"
      ],
      "metadata": {
        "trusted": true,
        "execution": {
          "iopub.status.busy": "2025-07-23T10:57:52.188076Z",
          "iopub.execute_input": "2025-07-23T10:57:52.189194Z",
          "iopub.status.idle": "2025-07-23T10:57:52.2124Z",
          "shell.execute_reply.started": "2025-07-23T10:57:52.189144Z",
          "shell.execute_reply": "2025-07-23T10:57:52.211172Z"
        },
        "id": "sEGvcW7gF3Rq"
      },
      "outputs": [],
      "execution_count": null
    },
    {
      "cell_type": "code",
      "source": [
        "more_qb_adv = pd.read_csv('/kaggle/input/more-qbstats/FantasyPros_Fantasy_Football_Advanced_Stats_Report_QB.csv')"
      ],
      "metadata": {
        "trusted": true,
        "execution": {
          "iopub.status.busy": "2025-07-17T10:19:00.82794Z",
          "iopub.execute_input": "2025-07-17T10:19:00.828569Z",
          "iopub.status.idle": "2025-07-17T10:19:00.848915Z",
          "shell.execute_reply.started": "2025-07-17T10:19:00.828523Z",
          "shell.execute_reply": "2025-07-17T10:19:00.84748Z"
        },
        "id": "yJfYgshkF3Rr"
      },
      "outputs": [],
      "execution_count": null
    },
    {
      "cell_type": "code",
      "source": [
        "save_dfs(more_qb_adv,'/kaggle/working')"
      ],
      "metadata": {
        "trusted": true,
        "execution": {
          "iopub.status.busy": "2025-07-18T21:17:00.884029Z",
          "iopub.execute_input": "2025-07-18T21:17:00.884471Z",
          "iopub.status.idle": "2025-07-18T21:17:00.891797Z",
          "shell.execute_reply.started": "2025-07-18T21:17:00.884439Z",
          "shell.execute_reply": "2025-07-18T21:17:00.889641Z"
        },
        "id": "ShSJAK3LF3Rr"
      },
      "outputs": [],
      "execution_count": null
    },
    {
      "cell_type": "code",
      "source": [
        "more_qb_adv = dfs['more_qb_adv']"
      ],
      "metadata": {
        "trusted": true,
        "execution": {
          "iopub.status.busy": "2025-07-19T06:47:06.024865Z",
          "iopub.execute_input": "2025-07-19T06:47:06.02529Z",
          "iopub.status.idle": "2025-07-19T06:47:06.029531Z",
          "shell.execute_reply.started": "2025-07-19T06:47:06.025256Z",
          "shell.execute_reply": "2025-07-19T06:47:06.028368Z"
        },
        "id": "rpqn7Jh-F3Rr"
      },
      "outputs": [],
      "execution_count": null
    },
    {
      "cell_type": "code",
      "source": [
        " pass_options,def_dict,qb_defenders,qb_details, qb_row = process_eligible_receivers(week_1,qb_stats,airtimes)"
      ],
      "metadata": {
        "trusted": true,
        "execution": {
          "iopub.status.busy": "2025-07-19T06:54:56.655998Z",
          "iopub.execute_input": "2025-07-19T06:54:56.656615Z",
          "iopub.status.idle": "2025-07-19T06:55:22.087949Z",
          "shell.execute_reply.started": "2025-07-19T06:54:56.65658Z",
          "shell.execute_reply": "2025-07-19T06:55:22.086397Z"
        },
        "id": "YuY5120IF3Rr",
        "outputId": "eb4b417d-d41b-4ff4-b4ec-34f46839c3c0"
      },
      "outputs": [
        {
          "name": "stderr",
          "text": "<ipython-input-21-0d6e418281b2>:27: DeprecationWarning: DataFrameGroupBy.apply operated on the grouping columns. This behavior is deprecated, and in a future version of pandas the grouping columns will be excluded from the operation. Either pass `include_groups=False` to exclude the groupings or explicitly select the grouping columns after groupby to silence this warning.\n  .apply(last_event_is_ball_snap)\n",
          "output_type": "stream"
        },
        {
          "name": "stdout",
          "text": "118 21 13 2\neligible_indices: [3386992, 3387934]\nValid .iloc indices: [0, 1, 2, 3, 4, 5, 6, 7, 8, 9, 10, 11, 12, 13, 14, 15, 16, 17, 18, 19, 20, 21, 22]\nnot empty\nIndex(['PLAYER NAME', 'TEAM', 'TT', 'CAY', 'IAY', 'AYD', 'AGG%', 'LCAD',\n       'AYTS', 'ATT', 'YDS', 'TD', 'INT', 'RATE', 'COMP%', 'xCOMP%', '+/-'],\n      dtype='object')\n             gameId  playId    nflId    displayName  frameId   frameType  \\\n3386992  2022091106     196  44912.0    Jonnu Smith      118  AFTER_SNAP   \n3387934  2022091106     196  48097.0  Jakobi Meyers      118  AFTER_SNAP   \n\n                          time  jerseyNumber club playDirection  ...     a  \\\n3386992  2022-09-11 17:08:53.1          81.0   NE         right  ...  2.40   \n3387934  2022-09-11 17:08:53.1          16.0   NE         right  ...  1.21   \n\n          dis       o     dir  event  position  height distance_to_qb airtime  \\\n3386992  0.08  209.22  132.72    NaN        TE     6-3       8.280368     5.0   \n3387934  0.67   71.34   81.85    NaN        WR     6-2      16.199765     8.0   \n\n        ball_reach_frame  \n3386992              123  \n3387934              126  \n\n[2 rows x 23 columns]\n0\n             gameId  playId    nflId        displayName  frameId   frameType  \\\n3387463  2022091106     196  46307.0        Zach Sieler      118  AFTER_SNAP   \n3385579  2022091106     196  38548.0      Melvin Ingram      118  AFTER_SNAP   \n3385736  2022091106     196  40030.0       John Jenkins      118  AFTER_SNAP   \n3387620  2022091106     196  47796.0  Christian Wilkins      118  AFTER_SNAP   \n\n                          time  jerseyNumber club playDirection  ...      y  \\\n3387463  2022-09-11 17:08:53.1          92.0  MIA         right  ...  28.21   \n3385579  2022-09-11 17:08:53.1           6.0  MIA         right  ...  28.13   \n3385736  2022-09-11 17:08:53.1          77.0  MIA         right  ...  22.97   \n3387620  2022-09-11 17:08:53.1          94.0  MIA         right  ...  24.76   \n\n            s     a   dis       o     dir  event position height  \\\n3387463  3.90  2.00  0.40  212.42  283.93    NaN       DE    6-6   \n3385579  4.63  2.95  0.46  212.71  207.96    NaN      OLB    6-2   \n3385736  3.38  1.93  0.33  289.65  251.79    NaN       DT    6-3   \n3387620  2.20  1.41  0.23  280.30  330.67    NaN       DE    6-4   \n\n        distance_to_qb  \n3387463       5.569704  \n3385579       6.089376  \n3385736       6.468663  \n3387620       6.694184  \n\n[4 rows x 21 columns]\n",
          "output_type": "stream"
        }
      ],
      "execution_count": null
    },
    {
      "cell_type": "code",
      "source": [
        "def_dict"
      ],
      "metadata": {
        "trusted": true,
        "execution": {
          "iopub.status.busy": "2025-07-23T05:29:02.443317Z",
          "iopub.execute_input": "2025-07-23T05:29:02.443692Z",
          "iopub.status.idle": "2025-07-23T05:29:02.467344Z",
          "shell.execute_reply.started": "2025-07-23T05:29:02.443667Z",
          "shell.execute_reply": "2025-07-23T05:29:02.466001Z"
        },
        "id": "mUPC_QX6F3Rr",
        "outputId": "d70217eb-0dbd-4ca9-bc8a-5e8b6decee0f"
      },
      "outputs": [
        {
          "execution_count": 12,
          "output_type": "execute_result",
          "data": {
            "text/plain": "{'df1':              gameId  playId    nflId        displayName  frameId   frameType  \\\n 3386369  2022091106     196  43321.0     Emmanuel Ogbah      123  AFTER_SNAP   \n 3385741  2022091106     196  40030.0       John Jenkins      123  AFTER_SNAP   \n 3387625  2022091106     196  47796.0  Christian Wilkins      123  AFTER_SNAP   \n 3385584  2022091106     196  38548.0      Melvin Ingram      123  AFTER_SNAP   \n \n                           time  jerseyNumber club playDirection  ...      y  \\\n 3386369  2022-09-11 17:08:53.6          91.0  MIA         right  ...  17.68   \n 3385741  2022-09-11 17:08:53.6          77.0  MIA         right  ...  22.55   \n 3387625  2022-09-11 17:08:53.6          94.0  MIA         right  ...  25.59   \n 3385584  2022-09-11 17:08:53.6           6.0  MIA         right  ...  25.96   \n \n             s     a   dis       o     dir  event position height  \\\n 3386369  1.97  2.21  0.21  318.55  306.37    NaN       DE    6-4   \n 3385741  3.72  1.25  0.38  309.10  261.97    NaN       DT    6-3   \n 3387625  2.03  1.11  0.22  268.90  313.55    NaN       DE    6-4   \n 3385584  4.77  0.68  0.48  221.02  204.91    NaN      OLB    6-2   \n \n         distance_from_rec  \n 3386369          2.810071  \n 3385741          5.601366  \n 3387625          8.336234  \n 3385584          9.229745  \n \n [4 rows x 21 columns],\n 'df2':              gameId  playId    nflId     displayName  frameId   frameType  \\\n 3388256  2022091106     196  52478.0   Brandon Jones      126  AFTER_SNAP   \n 3388099  2022091106     196  48476.0     Nik Needham      126  AFTER_SNAP   \n 3387314  2022091106     196  46142.0    Jerome Baker      126  AFTER_SNAP   \n 3386372  2022091106     196  43321.0  Emmanuel Ogbah      126  AFTER_SNAP   \n \n                           time  jerseyNumber club playDirection  ...      y  \\\n 3388256  2022-09-11 17:08:53.9          29.0  MIA         right  ...  19.08   \n 3388099  2022-09-11 17:08:53.9          40.0  MIA         right  ...  14.10   \n 3387314  2022-09-11 17:08:53.9          55.0  MIA         right  ...  29.46   \n 3386372  2022-09-11 17:08:53.9          91.0  MIA         right  ...  18.20   \n \n             s     a   dis       o     dir  event position height  \\\n 3388256  2.67  2.65  0.27  124.38   41.69    NaN       FS    6-0   \n 3388099  6.76  2.50  0.68    0.80   67.11    NaN       CB    6-0   \n 3387314  3.52  2.13  0.35  282.39  350.17    NaN      ILB    6-2   \n 3386372  2.36  1.75  0.24  326.06  329.29    NaN       DE    6-4   \n \n         distance_from_rec  \n 3388256          3.067409  \n 3388099          5.104243  \n 3387314         13.326143  \n 3386372         14.053160  \n \n [4 rows x 21 columns]}"
          },
          "metadata": {}
        }
      ],
      "execution_count": null
    },
    {
      "cell_type": "code",
      "source": [
        "with open(\"more_qbstats.pkl\", \"wb\") as f:\n",
        "    pickle.dump(more_qb_adv, f)\n"
      ],
      "metadata": {
        "trusted": true,
        "execution": {
          "iopub.status.busy": "2025-06-11T05:51:38.183698Z",
          "iopub.execute_input": "2025-06-11T05:51:38.184237Z",
          "iopub.status.idle": "2025-06-11T05:51:38.191331Z",
          "shell.execute_reply.started": "2025-06-11T05:51:38.184203Z",
          "shell.execute_reply": "2025-06-11T05:51:38.190105Z"
        },
        "id": "lvFHY1S_F3Rr"
      },
      "outputs": [],
      "execution_count": null
    },
    {
      "cell_type": "code",
      "source": [
        "def calculate_qb_pressure(df, qb_row):\n",
        "    \"\"\"\n",
        "    Calculates pressure on the QB based on the proximity, speed, acceleration,\n",
        "    and direction of blitzing defenders.\n",
        "\n",
        "    Parameters:\n",
        "    - df (DataFrame): Contains defender data with columns:\n",
        "        ['x', 'y', 's', 'a', 'o', 'dir', 'distance_to_qb', 'position']\n",
        "    - qb_x (float): QB's x-coordinate.\n",
        "    - qb_y (float): QB's y-coordinate.\n",
        "    - qb_orientation (float): QB's orientation in degrees.\n",
        "\n",
        "    Returns:\n",
        "    - float: Pressure score on the QB.\n",
        "    \"\"\"\n",
        "    qb_x,qb_y = qb_row['x'],qb_row['y']\n",
        "    qb_orientation = qb_row['o']\n",
        "    # Constants for weighting factors\n",
        "    SPEED_WEIGHT = 2.0\n",
        "    ACCEL_WEIGHT = 1.5\n",
        "    PROXIMITY_WEIGHT = 3.0\n",
        "    ANGLE_WEIGHT = 1.0\n",
        "    MAX_DISTANCE = 10  # Maximum effective distance for pressure\n",
        "\n",
        "\n",
        "    # Initialize pressure score\n",
        "    pressure_score = 0\n",
        "\n",
        "    for _, defender in df.iterrows():\n",
        "        # Calculate proximity effect (higher for closer defenders)\n",
        "        proximity_effect = max(0, 1 - (defender['distance_to_qb'] / MAX_DISTANCE))\n",
        "\n",
        "        # Calculate angular effect (alignment with QB orientation)\n",
        "        defender_angle = np.deg2rad(defender['o'])\n",
        "        qb_orientation_rad = np.deg2rad(qb_orientation)\n",
        "        angle_diff = np.abs(defender_angle - qb_orientation_rad)\n",
        "        angle_diff = min(angle_diff, 2 * np.pi - angle_diff)  # Normalize to 0 to π\n",
        "        angular_effect = 1 - (angle_diff / np.pi)  # High pressure for aligned directions\n",
        "\n",
        "        # Calculate individual defender's contribution to pressure\n",
        "        defender_pressure = (\n",
        "            PROXIMITY_WEIGHT * proximity_effect +\n",
        "            SPEED_WEIGHT * defender['s'] +\n",
        "            ACCEL_WEIGHT * defender['a'] +\n",
        "            ANGLE_WEIGHT * angular_effect\n",
        "        )\n",
        "\n",
        "        # Add to total pressure score\n",
        "        pressure_score += defender_pressure\n",
        "\n",
        "    return pressure_score\n"
      ],
      "metadata": {
        "trusted": true,
        "execution": {
          "iopub.status.busy": "2025-07-19T06:55:29.49005Z",
          "iopub.execute_input": "2025-07-19T06:55:29.4905Z",
          "iopub.status.idle": "2025-07-19T06:55:29.499833Z",
          "shell.execute_reply.started": "2025-07-19T06:55:29.490467Z",
          "shell.execute_reply": "2025-07-19T06:55:29.498227Z"
        },
        "id": "im6qqSw7F3Rs"
      },
      "outputs": [],
      "execution_count": null
    },
    {
      "cell_type": "code",
      "source": [
        "def calculate_difficulty(qb_row,receiver):\n",
        "    # Compute target angle\n",
        "    qb_x,qb_y = qb_row['x'],qb_row['y']\n",
        "    qb_orientation = qb_row['o']\n",
        "    receiver_x,receiver_y = receiver['x'],receiver['y']\n",
        "    target_angle = np.arctan2(receiver_y - qb_y, receiver_x - qb_x)\n",
        "    distance_to_receiver = receiver['distance_to_qb']\n",
        "    # Normalize angles to radians\n",
        "    qb_orientation_rad = np.deg2rad(qb_orientation)\n",
        "    angle_diff = np.abs(target_angle - qb_orientation_rad)\n",
        "    angle_diff = min(angle_diff, 2 * np.pi - angle_diff)  # Normalize to 0 to π\n",
        "\n",
        "    # Calculate angular difficulty multiplier\n",
        "    k = 2  # Tunable constant\n",
        "    angular_difficulty = 1 + k * angle_diff\n",
        "\n",
        "    # Calculate total difficulty\n",
        "    total_difficulty = distance_to_receiver * angular_difficulty\n",
        "    return total_difficulty\n"
      ],
      "metadata": {
        "trusted": true,
        "execution": {
          "iopub.status.busy": "2025-07-19T07:14:14.25348Z",
          "iopub.execute_input": "2025-07-19T07:14:14.253878Z",
          "iopub.status.idle": "2025-07-19T07:14:14.260939Z",
          "shell.execute_reply.started": "2025-07-19T07:14:14.253849Z",
          "shell.execute_reply": "2025-07-19T07:14:14.259405Z"
        },
        "id": "lkhpXpuuF3Rt"
      },
      "outputs": [],
      "execution_count": null
    },
    {
      "cell_type": "code",
      "source": [
        "import random\n",
        "\n",
        "def simulate_pass(qb_accuracy, qb_orientation, receiver_position, receiver_speed,\n",
        "                  defender_proximity, pressure_level):\n",
        "    # Deterministic components\n",
        "    distance_factor = 1.0 - pressure_level  # Example scaling\n",
        "    time_to_ball = 2  # Estimated time (seconds)\n",
        "    landing_x = receiver_position[0] + (receiver_speed * time_to_ball) + (qb_orientation[0] * distance_factor)\n",
        "    landing_y = receiver_position[1] + (qb_orientation[1] * distance_factor)\n",
        "\n",
        "    # Random components\n",
        "    sigma_x = (1 - qb_accuracy) + (pressure_level * 0.5)\n",
        "    sigma_y = (1 - qb_accuracy) + (pressure_level * 0.5)\n",
        "    rand_x = random.gauss(0, sigma_x)\n",
        "    rand_y = random.gauss(0, sigma_y)\n",
        "\n",
        "    # Final landing spot\n",
        "    final_landing_x = landing_x + rand_x\n",
        "    final_landing_y = landing_y + rand_y\n",
        "\n",
        "    return final_landing_x, final_landing_y\n"
      ],
      "metadata": {
        "trusted": true,
        "execution": {
          "iopub.status.busy": "2025-06-15T04:30:57.953719Z",
          "iopub.execute_input": "2025-06-15T04:30:57.954178Z",
          "iopub.status.idle": "2025-06-15T04:30:57.960582Z",
          "shell.execute_reply.started": "2025-06-15T04:30:57.954141Z",
          "shell.execute_reply": "2025-06-15T04:30:57.95948Z"
        },
        "id": "X-MkI0AkF3Rt"
      },
      "outputs": [],
      "execution_count": null
    },
    {
      "cell_type": "code",
      "source": [
        "def run_pass_simulation(df, qb_df, airtimes, num_simulations=60):\n",
        "    # Step 1: Process eligible receivers + get data\n",
        "    results, def_dict, qb_defs, qb_details, qb_row = process_eligible_receivers(df, qb_df, airtimes)\n",
        "\n",
        "    # Step 2: Calculate QB pressure at initial frame\n",
        "    qb_defenders_df = list(qb_defs.values())[0]\n",
        "    qb_x, qb_y = qb_row['x'], qb_row['y']\n",
        "    qb_defenders_df = qb_defenders_df.assign(\n",
        "        distance_to_qb=lambda row: np.sqrt((row[\"x\"] - qb_x) ** 2 + (row[\"y\"] - qb_y) ** 2)\n",
        "    )\n",
        "    qb_pressure = calculate_qb_pressure(qb_defenders_df, qb_row)\n",
        "\n",
        "    simulated_passes = []\n",
        "\n",
        "    for _, receiver_row in results.iterrows():\n",
        "        receiver_id = receiver_row['nflId']\n",
        "\n",
        "        # Calculate difficulty score\n",
        "        receiver_snapshot = {\n",
        "            'x': receiver_row['x_ball_reach'],\n",
        "            'y': receiver_row['y_ball_reach'],\n",
        "            'distance_to_qb': np.sqrt((receiver_row['x_ball_reach'] - qb_x) ** 2 +\n",
        "                                      (receiver_row['y_ball_reach'] - qb_y) ** 2)\n",
        "        }\n",
        "        difficulty_score = calculate_difficulty(qb_row, receiver_snapshot)\n",
        "\n",
        "        # Receiver details\n",
        "        receiver_pos = (receiver_row['x_initial'], receiver_row['y_initial'])\n",
        "        receiver_final_pos = (receiver_row['x_ball_reach'], receiver_row['y_ball_reach'])\n",
        "        receiver_speed = receiver_row.get('s', 0)\n",
        "\n",
        "        # Find closest defenders at ball reach frame\n",
        "        closest_defenders_df = def_dict.get(f\"df{list(def_dict.keys()).index(f'df{receiver_id}')+1}\", None)\n",
        "        if closest_defenders_df is None or closest_defenders_df.empty:\n",
        "            defender_proximity = 10\n",
        "            closest_defender_pos = None\n",
        "        else:\n",
        "            rec_x, rec_y = receiver_final_pos\n",
        "            closest_defenders_df = closest_defenders_df.assign(\n",
        "                distance=lambda row: np.sqrt((row[\"x\"] - rec_x) ** 2 + (row[\"y\"] - rec_y) ** 2)\n",
        "            )\n",
        "            closest_defender = closest_defenders_df.loc[closest_defenders_df['distance'].idxmin()]\n",
        "            defender_proximity = closest_defender['distance']\n",
        "            closest_defender_pos = (closest_defender['x'], closest_defender['y'])\n",
        "\n",
        "        # QB orientation and accuracy\n",
        "        qb_orientation_deg = qb_row['o']\n",
        "        qb_orientation_rad = np.deg2rad(qb_orientation_deg)\n",
        "        qb_orientation_vec = (np.cos(qb_orientation_rad), np.sin(qb_orientation_rad))\n",
        "        qb_accuracy = qb_details[0].get('COMP%', 0.7) if qb_details else 0.7\n",
        "        adjusted_accuracy = qb_accuracy / (1 + 0.05 * difficulty_score)\n",
        "        pressure_level = min(qb_pressure / 20.0, 1.0)\n",
        "\n",
        "        # Run multiple simulations\n",
        "        success_count = 0\n",
        "        sim_results = []\n",
        "\n",
        "        for _ in range(num_simulations):\n",
        "            landing_x, landing_y = simulate_pass(\n",
        "                qb_accuracy=adjusted_accuracy,\n",
        "                qb_orientation=qb_orientation_vec,\n",
        "                receiver_position=receiver_pos,\n",
        "                receiver_speed=receiver_speed,\n",
        "                defender_proximity=defender_proximity,\n",
        "                pressure_level=pressure_level\n",
        "            )\n",
        "\n",
        "            # Determine success: Is landing spot closer to receiver or defender?\n",
        "            dist_to_receiver = np.sqrt((landing_x - receiver_final_pos[0]) ** 2 +\n",
        "                                       (landing_y - receiver_final_pos[1]) ** 2)\n",
        "            if closest_defender_pos is None:\n",
        "                dist_to_defender = float('inf')\n",
        "            else:\n",
        "                dist_to_defender = np.sqrt((landing_x - closest_defender_pos[0]) ** 2 +\n",
        "                                           (landing_y - closest_defender_pos[1]) ** 2)\n",
        "\n",
        "            success = int(dist_to_receiver < dist_to_defender)\n",
        "            success_count += success\n",
        "\n",
        "            sim_results.append({\n",
        "                \"landing_x\": landing_x,\n",
        "                \"landing_y\": landing_y,\n",
        "                \"success\": success\n",
        "            })\n",
        "\n",
        "        success_rate = success_count / num_simulations\n",
        "\n",
        "        simulated_passes.append({\n",
        "            \"receiver_id\": receiver_id,\n",
        "            \"success_rate\": success_rate,\n",
        "            \"num_simulations\": num_simulations,\n",
        "            \"pressure_level\": pressure_level,\n",
        "            \"defender_proximity\": defender_proximity,\n",
        "            \"qb_pressure\": qb_pressure,\n",
        "            \"difficulty_score\": difficulty_score,\n",
        "            \"receiver_final_pos\": receiver_final_pos,\n",
        "            \"simulations\": sim_results  # optional: to inspect raw sim data\n",
        "        })\n",
        "\n",
        "    return simulated_passes\n"
      ],
      "metadata": {
        "trusted": true,
        "execution": {
          "iopub.status.busy": "2025-07-23T05:25:10.798636Z",
          "iopub.execute_input": "2025-07-23T05:25:10.799033Z",
          "iopub.status.idle": "2025-07-23T05:25:10.813369Z",
          "shell.execute_reply.started": "2025-07-23T05:25:10.799002Z",
          "shell.execute_reply": "2025-07-23T05:25:10.812072Z"
        },
        "id": "wSECdNGiF3Rt"
      },
      "outputs": [],
      "execution_count": null
    },
    {
      "cell_type": "code",
      "source": [
        "run_pass_simulation(week_1,qb_stats,airtimes)"
      ],
      "metadata": {
        "trusted": true,
        "execution": {
          "iopub.status.busy": "2025-07-23T05:25:14.857872Z",
          "iopub.execute_input": "2025-07-23T05:25:14.858301Z",
          "iopub.status.idle": "2025-07-23T05:25:32.358031Z",
          "shell.execute_reply.started": "2025-07-23T05:25:14.858268Z",
          "shell.execute_reply": "2025-07-23T05:25:32.356719Z"
        },
        "id": "Rwhq1IByF3Ru",
        "outputId": "1ab52a0a-11d3-4dee-9d35-19a3071ae62a"
      },
      "outputs": [
        {
          "name": "stderr",
          "text": "<ipython-input-21-0d6e418281b2>:27: DeprecationWarning: DataFrameGroupBy.apply operated on the grouping columns. This behavior is deprecated, and in a future version of pandas the grouping columns will be excluded from the operation. Either pass `include_groups=False` to exclude the groupings or explicitly select the grouping columns after groupby to silence this warning.\n",
          "output_type": "stream"
        },
        {
          "name": "stdout",
          "text": "45 -30 -30 4\neligible_indices: [6718106, 6718306]\nValid .iloc indices: [0, 1, 2, 3, 4, 5, 6, 7, 8, 9, 10, 11, 12, 13, 14, 15, 16, 17, 18, 19, 20, 21, 22]\nnot empty\nIndex(['PLAYER NAME', 'TEAM', 'TT', 'CAY', 'IAY', 'AYD', 'AGG%', 'LCAD',\n       'AYTS', 'ATT', 'YDS', 'TD', 'INT', 'RATE', 'COMP%', 'xCOMP%', '+/-'],\n      dtype='object')\n             gameId  playId    nflId   displayName  frameId   frameType  \\\n6718106  2022090800     299  43399.0  Tyler Higbee      155  AFTER_SNAP   \n6718306  2022090800     299  44881.0   Cooper Kupp      155  AFTER_SNAP   \n\n                          time  jerseyNumber club playDirection  ...     a  \\\n6718106  2022-09-09 00:33:31.2          89.0   LA         right  ...  2.47   \n6718306  2022-09-09 00:33:31.2          10.0   LA         right  ...  0.31   \n\n          dis      o     dir  event  position  height distance_to_qb airtime  \\\n6718106  0.03  58.52    5.41    NaN        TE     6-6       4.886686     5.0   \n6718306  0.72   1.95  349.59    NaN        WR     6-2       3.587102     5.0   \n\n        ball_reach_frame  \n6718106              160  \n6718306              160  \n\n[2 rows x 23 columns]\n0\n             gameId  playId    nflId       displayName  frameId   frameType  \\\n6719706  2022090800     299  47792.0         Ed Oliver      155  AFTER_SNAP   \n6717706  2022090800     299  41341.0      DaQuan Jones      155  AFTER_SNAP   \n6720506  2022090800     299  53459.0  Gregory Rousseau      155  AFTER_SNAP   \n6716906  2022090800     299  37075.0        Von Miller      155  AFTER_SNAP   \n\n                          time  jerseyNumber club playDirection  ...      y  \\\n6719706  2022-09-09 00:33:31.2          91.0  BUF         right  ...  24.72   \n6717706  2022-09-09 00:33:31.2          92.0  BUF         right  ...  21.26   \n6720506  2022-09-09 00:33:31.2          50.0  BUF         right  ...  19.50   \n6716906  2022-09-09 00:33:31.2          40.0  BUF         right  ...  28.32   \n\n            s     a   dis       o     dir  event position height  \\\n6719706  0.27  1.18  0.02  280.20  289.10    NaN       DT    6-1   \n6717706  0.57  1.91  0.05  290.08  312.26    NaN       DT    6-4   \n6720506  0.46  1.77  0.05  275.48  356.92    NaN       DE    6-7   \n6716906  0.17  1.44  0.02  271.77  245.03    NaN      OLB    6-3   \n\n        distance_to_qb  \n6719706       2.269471  \n6717706       3.231873  \n6720506       4.880184  \n6716906       5.001770  \n\n[4 rows x 21 columns]\n",
          "output_type": "stream"
        },
        {
          "traceback": [
            "\u001b[0;31m---------------------------------------------------------------------------\u001b[0m",
            "\u001b[0;31mValueError\u001b[0m                                Traceback (most recent call last)",
            "\u001b[0;32m<ipython-input-11-23b357a00a8e>\u001b[0m in \u001b[0;36m<cell line: 1>\u001b[0;34m()\u001b[0m\n\u001b[0;32m----> 1\u001b[0;31m \u001b[0mrun_pass_simulation\u001b[0m\u001b[0;34m(\u001b[0m\u001b[0mweek_1\u001b[0m\u001b[0;34m,\u001b[0m\u001b[0mqb_stats\u001b[0m\u001b[0;34m,\u001b[0m\u001b[0mairtimes\u001b[0m\u001b[0;34m)\u001b[0m\u001b[0;34m\u001b[0m\u001b[0;34m\u001b[0m\u001b[0m\n\u001b[0m",
            "\u001b[0;32m<ipython-input-10-c56516e87d07>\u001b[0m in \u001b[0;36mrun_pass_simulation\u001b[0;34m(df, qb_df, airtimes, num_simulations)\u001b[0m\n\u001b[1;32m     31\u001b[0m \u001b[0;34m\u001b[0m\u001b[0m\n\u001b[1;32m     32\u001b[0m         \u001b[0;31m# Find closest defenders at ball reach frame\u001b[0m\u001b[0;34m\u001b[0m\u001b[0;34m\u001b[0m\u001b[0m\n\u001b[0;32m---> 33\u001b[0;31m         \u001b[0mclosest_defenders_df\u001b[0m \u001b[0;34m=\u001b[0m \u001b[0mdef_dict\u001b[0m\u001b[0;34m.\u001b[0m\u001b[0mget\u001b[0m\u001b[0;34m(\u001b[0m\u001b[0;34mf\"df{list(def_dict.keys()).index(f'df{receiver_id}')+1}\"\u001b[0m\u001b[0;34m,\u001b[0m \u001b[0;32mNone\u001b[0m\u001b[0;34m)\u001b[0m\u001b[0;34m\u001b[0m\u001b[0;34m\u001b[0m\u001b[0m\n\u001b[0m\u001b[1;32m     34\u001b[0m         \u001b[0;32mif\u001b[0m \u001b[0mclosest_defenders_df\u001b[0m \u001b[0;32mis\u001b[0m \u001b[0;32mNone\u001b[0m \u001b[0;32mor\u001b[0m \u001b[0mclosest_defenders_df\u001b[0m\u001b[0;34m.\u001b[0m\u001b[0mempty\u001b[0m\u001b[0;34m:\u001b[0m\u001b[0;34m\u001b[0m\u001b[0;34m\u001b[0m\u001b[0m\n\u001b[1;32m     35\u001b[0m             \u001b[0mdefender_proximity\u001b[0m \u001b[0;34m=\u001b[0m \u001b[0;36m10\u001b[0m\u001b[0;34m\u001b[0m\u001b[0;34m\u001b[0m\u001b[0m\n",
            "\u001b[0;31mValueError\u001b[0m: 'df43399.0' is not in list"
          ],
          "ename": "ValueError",
          "evalue": "'df43399.0' is not in list",
          "output_type": "error"
        }
      ],
      "execution_count": null
    },
    {
      "cell_type": "code",
      "source": [
        "pass_options.iloc[0]['nflId']"
      ],
      "metadata": {
        "trusted": true,
        "id": "T6HuV7WXF3Ru"
      },
      "outputs": [],
      "execution_count": null
    }
  ]
}